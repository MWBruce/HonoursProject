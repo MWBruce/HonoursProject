{
 "cells": [
  {
   "cell_type": "markdown",
   "metadata": {},
   "source": [
    "NCP-VAE: Variational Autoencoders with Noise Contrastive Priors"
   ]
  },
  {
   "cell_type": "code",
   "execution_count": 1,
   "metadata": {},
   "outputs": [
    {
     "name": "stderr",
     "output_type": "stream",
     "text": [
      "/mnt/c/Users/Maxwell Bruce/Desktop/honours/CurrentModels/myenv/lib/python3.10/site-packages/tqdm/auto.py:21: TqdmWarning: IProgress not found. Please update jupyter and ipywidgets. See https://ipywidgets.readthedocs.io/en/stable/user_install.html\n",
      "  from .autonotebook import tqdm as notebook_tqdm\n"
     ]
    }
   ],
   "source": [
    "import torch\n",
    "import torch.nn as nn\n",
    "import torch.nn.functional as F\n",
    "import torch.optim as optim\n",
    "from torch.utils.data import DataLoader, Dataset, TensorDataset\n",
    "import pandas as pd\n",
    "import numpy as np\n",
    "import random\n",
    "from tqdm.auto import tqdm\n",
    "import matplotlib.pyplot as plt\n",
    "from sklearn.metrics import mean_squared_error, mean_absolute_error\n",
    "import pickle\n",
    "import datetime\n",
    "from sklearn.preprocessing import MinMaxScaler\n",
    "from scipy.stats import spearmanr\n",
    "from datetime import datetime\n",
    "from scipy.stats import pearsonr\n",
    "\n",
    "\n",
    "\n",
    "\n",
    "def set_seed(seed):\n",
    "    random.seed(seed)\n",
    "    np.random.seed(seed)\n",
    "    torch.manual_seed(seed)\n",
    "    torch.cuda.manual_seed(seed)\n",
    "    torch.cuda.manual_seed_all(seed)\n",
    "    torch.backends.cudnn.deterministic = True\n",
    "    torch.backends.cudnn.benchmark = False\n",
    "set_seed(42)"
   ]
  },
  {
   "cell_type": "code",
   "execution_count": 2,
   "metadata": {},
   "outputs": [],
   "source": [
    "class NoiseContrastivePrior(nn.Module):\n",
    "    def __init__(self, num_latent, noise_factor=0.1):\n",
    "        super(NoiseContrastivePrior, self).__init__()\n",
    "        self.noise_factor = noise_factor\n",
    "        self.noise = nn.Parameter(torch.randn(num_latent), requires_grad=False)\n",
    "        self.classifier = nn.Sequential(\n",
    "            nn.Linear(num_latent, 128),\n",
    "            nn.ReLU(),\n",
    "            nn.Linear(128, 1),\n",
    "            nn.Sigmoid()\n",
    "        )\n",
    "\n",
    "    def forward(self, latent):\n",
    "        noise_samples = self.noise_factor * torch.randn_like(latent)\n",
    "        reweighting_factor = self.classifier(latent)\n",
    "        return noise_samples, reweighting_factor\n",
    "\n",
    "    def contrastive_loss(self, latent, noise_samples):\n",
    "        latent_norm = F.normalize(latent, dim=-1)\n",
    "        noise_norm = F.normalize(noise_samples, dim=-1)\n",
    "        positive_score = torch.sum(latent_norm * latent_norm, dim=-1)\n",
    "        negative_score = torch.sum(latent_norm * noise_norm, dim=-1)\n",
    "        return -torch.mean(positive_score - negative_score)\n",
    "    \n",
    "    def reweighted_prior(self, latent, reweighting_factor):\n",
    "        return reweighting_factor * latent\n",
    "    \n",
    "class FeatureExtractor(nn.Module):\n",
    "    def __init__(self, num_latent, hidden_size, num_layers=1):\n",
    "        super(FeatureExtractor, self).__init__()\n",
    "        self.num_latent = num_latent\n",
    "        self.hidden_size = hidden_size\n",
    "        self.num_layers = num_layers\n",
    "        \n",
    "        self.normalize = nn.LayerNorm(num_latent)\n",
    "        self.linear = nn.Linear(num_latent, num_latent)\n",
    "        self.leakyrelu = nn.LeakyReLU()\n",
    "        self.gru = nn.GRU(num_latent, hidden_size, num_layers, batch_first=True)\n",
    "\n",
    "    def forward(self, x):\n",
    "        x = self.normalize(x)\n",
    "        out = self.linear(x)\n",
    "        out = self.leakyrelu(out)\n",
    "        stock_latent, _ = self.gru(out)\n",
    "        return stock_latent[:,-1,:] \n",
    "\n",
    "class FactorEncoder(nn.Module):\n",
    "    def __init__(self, num_factors, num_portfolio, hidden_size):\n",
    "        super(FactorEncoder, self).__init__()\n",
    "        self.num_factors = num_factors\n",
    "        self.linear = nn.Linear(hidden_size, num_portfolio)\n",
    "        self.softmax = nn.Softmax(dim=0) \n",
    "        \n",
    "        self.linear_mu = nn.Linear(num_portfolio, num_factors)\n",
    "        self.linear_sigma = nn.Linear(num_portfolio, num_factors)\n",
    "        self.softplus = nn.Softplus()\n",
    "        \n",
    "    def mapping_layer(self, portfolio_return):\n",
    "\n",
    "        mean = self.linear_mu(portfolio_return.squeeze(1))\n",
    "        sigma = self.softplus(self.linear_sigma(portfolio_return.squeeze(1)))\n",
    "        return mean, sigma\n",
    "    \n",
    "    def forward(self, stock_latent, returns):\n",
    "        weights = self.linear(stock_latent)\n",
    "        weights = self.softmax(weights) \n",
    "\n",
    "        if returns.dim() == 1:\n",
    "            returns = returns.unsqueeze(1)\n",
    "        portfolio_return = torch.mm(weights.transpose(1,0), returns)\n",
    "        \n",
    "        return self.mapping_layer(portfolio_return)\n",
    "\n",
    "class AlphaLayer(nn.Module):\n",
    "    def __init__(self, hidden_size):\n",
    "        super(AlphaLayer, self).__init__()\n",
    "        self.linear1 = nn.Linear(hidden_size, hidden_size)\n",
    "        self.leakyrelu = nn.LeakyReLU()\n",
    "        self.mu_layer = nn.Linear(hidden_size, 1)\n",
    "        self.sigma_layer = nn.Linear(hidden_size, 1)\n",
    "        self.softplus = nn.Softplus()\n",
    "        \n",
    "    def forward(self, stock_latent):\n",
    "        stock_latent = self.linear1(stock_latent)\n",
    "        stock_latent = self.leakyrelu(stock_latent)\n",
    "        alpha_mu = self.mu_layer(stock_latent)\n",
    "        alpha_sigma = self.sigma_layer(stock_latent)\n",
    "        return alpha_mu, self.softplus(alpha_sigma)\n",
    "        \n",
    "class BetaLayer(nn.Module):\n",
    "    \"\"\"calcuate factor exposure beta(N*K)\"\"\"\n",
    "    def __init__(self, hidden_size, num_factors):\n",
    "        super(BetaLayer, self).__init__()\n",
    "        self.linear1 = nn.Linear(hidden_size, num_factors)\n",
    "    \n",
    "    def forward(self, stock_latent):\n",
    "        beta = self.linear1(stock_latent)\n",
    "        return beta\n",
    "        \n",
    "class FactorDecoder(nn.Module):\n",
    "    def __init__(self, alpha_layer, beta_layer):\n",
    "        super(FactorDecoder, self).__init__()\n",
    "\n",
    "        self.alpha_layer = alpha_layer\n",
    "        self.beta_layer = beta_layer\n",
    "    \n",
    "    def reparameterize(self, mu, sigma):\n",
    "        eps = torch.randn_like(sigma)\n",
    "        return mu + eps * sigma\n",
    "    \n",
    "    def forward(self, stock_latent, factor_mu, factor_sigma):\n",
    "        alpha_mu, alpha_sigma = self.alpha_layer(stock_latent)\n",
    "        beta = self.beta_layer(stock_latent)\n",
    "\n",
    "        factor_mu = factor_mu.view(-1, 1)\n",
    "        factor_sigma = factor_sigma.view(-1, 1)\n",
    "        factor_sigma[factor_sigma == 0] = 1e-6\n",
    "        mu = alpha_mu + torch.matmul(beta, factor_mu)\n",
    "        sigma = torch.sqrt(alpha_sigma**2 + torch.matmul(beta**2, factor_sigma**2) + 1e-6)\n",
    "\n",
    "        return self.reparameterize(mu, sigma)\n",
    "\n",
    "class AttentionLayer(nn.Module):\n",
    "    def __init__(self, hidden_size):\n",
    "        super(AttentionLayer, self).__init__()\n",
    "        \n",
    "        self.query = nn.Parameter(torch.randn(hidden_size))\n",
    "        self.key_layer = nn.Linear(hidden_size, hidden_size)\n",
    "        self.value_layer = nn.Linear(hidden_size, hidden_size)\n",
    "        self.dropout = nn.Dropout(0.1)\n",
    "    \n",
    "    def forward(self, stock_latent):\n",
    "        self.key = self.key_layer(stock_latent)\n",
    "        self.value = self.value_layer(stock_latent)\n",
    "        attention_weights = torch.matmul(self.query, self.key.transpose(1,0))\n",
    "        attention_weights = attention_weights / torch.sqrt(torch.tensor(self.key.shape[0])+ 1e-6)\n",
    "        attention_weights = self.dropout(attention_weights)\n",
    "        attention_weights = F.relu(attention_weights) \n",
    "        attention_weights = F.softmax(attention_weights, dim=0) \n",
    "        \n",
    "        if torch.isnan(attention_weights).any() or torch.isinf(attention_weights).any():\n",
    "            return torch.zeros_like(self.value[0])\n",
    "        else:\n",
    "            context_vector = torch.matmul(attention_weights, self.value) \n",
    "            return context_vector \n",
    "\n",
    "class FactorPredictor(nn.Module):\n",
    "    def __init__(self, batch_size, hidden_size, num_factor):\n",
    "        super(FactorPredictor, self).__init__()\n",
    "        \n",
    "        self.hidden_size = hidden_size\n",
    "        self.batch_size = batch_size\n",
    "        self.num_factor = num_factor\n",
    "        self.attention_layers = nn.ModuleList([AttentionLayer(self.hidden_size) for _ in range(num_factor)])\n",
    "        \n",
    "        self.linear = nn.Linear(hidden_size, hidden_size)\n",
    "        self.leakyrelu = nn.LeakyReLU()\n",
    "        self.mu_layer = nn.Linear(hidden_size, 1)\n",
    "        self.sigma_layer = nn.Linear(hidden_size, 1)\n",
    "        self.softplus = nn.Softplus()\n",
    "\n",
    "    def forward(self, stock_latent):\n",
    "        \n",
    "        for i in range(self.num_factor):\n",
    "            attention_layer = self.attention_layers[i](stock_latent)\n",
    "            if i == 0:\n",
    "                h_multi = attention_layer\n",
    "            else:\n",
    "                h_multi = torch.cat((h_multi, attention_layer), dim=0)\n",
    "        h_multi = h_multi.view(self.num_factor, -1)\n",
    "\n",
    "        h_multi = self.linear(h_multi)\n",
    "        h_multi = self.leakyrelu(h_multi)\n",
    "        pred_mu = self.mu_layer(h_multi)\n",
    "        pred_sigma = self.sigma_layer(h_multi)\n",
    "        pred_sigma = self.softplus(pred_sigma)\n",
    "        pred_mu = pred_mu.view(-1)\n",
    "        pred_sigma = pred_sigma.view(-1)\n",
    "        return pred_mu, pred_sigma\n",
    "    \n",
    "class FactorVAE(nn.Module):\n",
    "    def __init__(self, feature_extractor, factor_encoder, factor_decoder, factor_predictor):\n",
    "        super(FactorVAE, self).__init__()\n",
    "        self.feature_extractor = feature_extractor\n",
    "        self.factor_encoder = factor_encoder\n",
    "        self.factor_decoder = factor_decoder\n",
    "        self.factor_predictor = factor_predictor\n",
    "\n",
    "    @staticmethod\n",
    "    def KL_Divergence(mu1, sigma1, mu2, sigma2):\n",
    "        kl_div = (torch.log(sigma2/ sigma1) + (sigma1**2 + (mu1 - mu2)**2) / (2 * sigma2**2) - 0.5).sum()\n",
    "        return kl_div\n",
    "\n",
    "    def forward(self, x, returns):\n",
    "\n",
    "        stock_latent = self.feature_extractor(x)\n",
    "        factor_mu, factor_sigma = self.factor_encoder(stock_latent, returns)\n",
    "        reconstruction = self.factor_decoder(stock_latent, factor_mu, factor_sigma)\n",
    "        pred_mu, pred_sigma = self.factor_predictor(stock_latent)\n",
    "\n",
    "        stock_adj = 0\n",
    "        for i in range(len(returns)-1,-1,-1):\n",
    "            if returns[i] == 0:\n",
    "                stock_adj += 1\n",
    "            else:\n",
    "                break\n",
    "\n",
    "        if stock_adj > 0:\n",
    "            reconstruction_loss = F.mse_loss(reconstruction[:-stock_adj], returns[:-stock_adj])\n",
    "        else:\n",
    "            reconstruction_loss = F.mse_loss(reconstruction, returns)\n",
    "            \n",
    "        if torch.any(pred_sigma == 0):\n",
    "            pred_sigma[pred_sigma == 0] = 1e-6\n",
    "        kl_divergence = self.KL_Divergence(factor_mu, factor_sigma, pred_mu, pred_sigma)\n",
    "\n",
    "        vae_loss = reconstruction_loss + kl_divergence\n",
    "        return vae_loss, reconstruction, factor_mu, factor_sigma, pred_mu, pred_sigma \n",
    "\n",
    "    def prediction(self, x):\n",
    "        stock_latent = self.feature_extractor(x)\n",
    "        pred_mu, pred_sigma = self.factor_predictor(stock_latent)\n",
    "        y_pred = self.factor_decoder(stock_latent, pred_mu, pred_sigma)\n",
    "\n",
    "        return y_pred\n",
    "    \n",
    "class FactorVAEWithNCP(FactorVAE):\n",
    "    def __init__(self, feature_extractor, factor_encoder, factor_decoder, factor_predictor, num_latent):\n",
    "        super(FactorVAEWithNCP, self).__init__(feature_extractor, factor_encoder, factor_decoder, factor_predictor)\n",
    "        self.ncp = NoiseContrastivePrior(num_latent)\n",
    "\n",
    "    def forward(self, x, returns):\n",
    "        stock_latent = self.feature_extractor(x)\n",
    "        factor_mu, factor_sigma = self.factor_encoder(stock_latent, returns)\n",
    "        reconstruction = self.factor_decoder(stock_latent, factor_mu, factor_sigma)\n",
    "        pred_mu, pred_sigma = self.factor_predictor(stock_latent)\n",
    "\n",
    "        noise_samples, reweighting_factor = self.ncp(stock_latent)\n",
    "        ncp_loss = self.ncp.contrastive_loss(stock_latent, noise_samples)\n",
    "        reweighted_prior = self.ncp.reweighted_prior(stock_latent, reweighting_factor)\n",
    "\n",
    "        stock_adj = 0\n",
    "        for i in range(len(returns)-1, -1, -1):\n",
    "            if returns[i] == 0:\n",
    "                stock_adj += 1\n",
    "            else:\n",
    "                break\n",
    "\n",
    "        if stock_adj > 0:\n",
    "            reconstruction_loss = F.mse_loss(reconstruction[:-stock_adj], returns[:-stock_adj])\n",
    "        else:\n",
    "            reconstruction_loss = F.mse_loss(reconstruction, returns)\n",
    "            \n",
    "        if torch.any(pred_sigma == 0):\n",
    "            pred_sigma[pred_sigma == 0] = 1e-6\n",
    "        kl_divergence = self.KL_Divergence(factor_mu, factor_sigma, pred_mu, pred_sigma)\n",
    "\n",
    "        vae_loss = reconstruction_loss + kl_divergence + ncp_loss\n",
    "        return vae_loss, reconstruction, factor_mu, factor_sigma, pred_mu, pred_sigma\n",
    "\n",
    "    def prediction(self, x):\n",
    "        stock_latent = self.feature_extractor(x)\n",
    "        pred_mu, pred_sigma = self.factor_predictor(stock_latent)\n",
    "        y_pred = self.factor_decoder(stock_latent, pred_mu, pred_sigma)\n",
    "        return y_pred\n"
   ]
  },
  {
   "cell_type": "code",
   "execution_count": 3,
   "metadata": {},
   "outputs": [],
   "source": [
    "def train(factor_model, dataloader, optimizer, seq_len):\n",
    "    device = torch.device(\"cuda\" if torch.cuda.is_available() else \"cpu\")\n",
    "    factor_model.to(device)\n",
    "    factor_model.train()\n",
    "    total_loss = 0\n",
    "    with tqdm(total=len(dataloader), desc=\"Training\") as pbar:\n",
    "        for char, returns in dataloader: \n",
    "            if char.shape[1] != seq_len:\n",
    "                continue\n",
    "            inputs = char.to(device)\n",
    "            labels = returns[:,-1].reshape(-1,1).to(device)\n",
    "            inputs = inputs.float()\n",
    "            labels = labels.float()\n",
    "            \n",
    "            optimizer.zero_grad()\n",
    "            loss, reconstruction, factor_mu, factor_sigma, pred_mu, pred_sigma = factor_model(inputs, labels)\n",
    "            total_loss += loss.item() * inputs.size(0)\n",
    "            loss.backward()\n",
    "            optimizer.step()\n",
    "            pbar.set_postfix({'loss': loss.item()})\n",
    "            pbar.update(1)\n",
    "    avg_loss = total_loss / len(dataloader.dataset)\n",
    "    return avg_loss\n"
   ]
  },
  {
   "cell_type": "code",
   "execution_count": 4,
   "metadata": {},
   "outputs": [],
   "source": [
    "@torch.no_grad()\n",
    "def validate(factor_model, dataloader, seq_len):\n",
    "    device = torch.device(\"cuda\" if torch.cuda.is_available() else \"cpu\")\n",
    "    factor_model.to(device)\n",
    "    factor_model.eval()\n",
    "    total_loss = 0\n",
    "    with tqdm(total=len(dataloader), desc=\"Validation\") as pbar:\n",
    "        for char, returns in dataloader:\n",
    "            if char.shape[1] != seq_len:\n",
    "                continue\n",
    "            inputs = char.to(device)\n",
    "            labels = returns[:,-1].reshape(-1,1).to(device)\n",
    "            inputs = inputs.float()\n",
    "            labels = labels.float()\n",
    "            \n",
    "            loss, reconstruction, factor_mu, factor_sigma, pred_mu, pred_sigma = factor_model(inputs, labels)\n",
    "            total_loss += loss.item() * inputs.size(0)\n",
    "            pbar.update(1)\n",
    "    avg_loss = total_loss / len(dataloader.dataset)\n",
    "    return avg_loss\n"
   ]
  },
  {
   "cell_type": "code",
   "execution_count": 5,
   "metadata": {},
   "outputs": [],
   "source": [
    "class StockDataset(Dataset):\n",
    "    def __init__(self,features, returns):\n",
    "        print(f\"{features.shape} : {returns.shape}\")\n",
    "        self.features = features\n",
    "        self.returns = returns\n",
    "    def __len__(self):\n",
    "        return len(self.returns)\n",
    "    def __getitem__(self,idx):\n",
    "        return self.features[idx],self.returns[idx]"
   ]
  },
  {
   "cell_type": "code",
   "execution_count": 6,
   "metadata": {},
   "outputs": [],
   "source": [
    "num_latent = 19\n",
    "batch_size = 300\n",
    "seq_len = 20\n",
    "num_factor = 8\n",
    "hidden_size = 20\n",
    "epochs = 35 ## 35\n",
    "path = 'bestModelNCP2.pt'\n",
    "pickle_path = 'processed_data/stock_data.pkl'\n",
    "lr = 0.0003"
   ]
  },
  {
   "cell_type": "code",
   "execution_count": 7,
   "metadata": {},
   "outputs": [
    {
     "name": "stderr",
     "output_type": "stream",
     "text": [
      "/mnt/c/Users/Maxwell Bruce/Desktop/honours/CurrentModels/myenv/lib/python3.10/site-packages/torch/storage.py:414: FutureWarning: You are using `torch.load` with `weights_only=False` (the current default value), which uses the default pickle module implicitly. It is possible to construct malicious pickle data which will execute arbitrary code during unpickling (See https://github.com/pytorch/pytorch/blob/main/SECURITY.md#untrusted-models for more details). In a future release, the default value for `weights_only` will be flipped to `True`. This limits the functions that could be executed during unpickling. Arbitrary objects will no longer be allowed to be loaded via this mode unless they are explicitly allowlisted by the user via `torch.serialization.add_safe_globals`. We recommend you start setting `weights_only=True` for any use case where you don't have full control of the loaded file. Please open an issue on GitHub for any issues related to this experimental feature.\n",
      "  return torch.load(io.BytesIO(b))\n"
     ]
    },
    {
     "name": "stdout",
     "output_type": "stream",
     "text": [
      "torch.Size([1080804, 20, 20]) : torch.Size([1080804, 1])\n",
      "torch.Size([55216, 20, 20]) : torch.Size([55216, 1])\n",
      "torch.Size([138849, 20, 20]) : torch.Size([138849, 1])\n"
     ]
    }
   ],
   "source": [
    "\n",
    "class GlobalMinMaxScaler:\n",
    "    def __init__(self):\n",
    "        self.feature_scaler = None\n",
    "        self.return_scaler = None\n",
    "\n",
    "    def fit(self, features_datasets, returns_datasets):\n",
    "        combined_features = np.concatenate(features_datasets, axis=0)\n",
    "        self.feature_scaler = MinMaxScaler()\n",
    "        self.feature_scaler.fit(combined_features.reshape(-1, combined_features.shape[-1]))\n",
    "\n",
    "        combined_returns = np.concatenate(returns_datasets, axis=0)\n",
    "        self.return_scaler = MinMaxScaler()\n",
    "        self.return_scaler.fit(combined_returns.reshape(-1, 1))  \n",
    "\n",
    "    def transform_features(self, data):\n",
    "        return self.feature_scaler.transform(data.reshape(-1, data.shape[-1])).reshape(data.shape)\n",
    "\n",
    "    def transform_returns(self, data):\n",
    "        return self.return_scaler.transform(data.reshape(-1, 1)).reshape(data.shape)\n",
    "\n",
    "    def inverse_transform_features(self, data):\n",
    "        return self.feature_scaler.inverse_transform(data.reshape(-1, data.shape[-1])).reshape(data.shape)\n",
    "\n",
    "    def inverse_transform_returns(self, data):\n",
    "        return self.return_scaler.inverse_transform(data.reshape(-1, 1)).reshape(data.shape)\n",
    "\n",
    "with open(pickle_path, 'rb') as f:\n",
    "    data = pickle.load(f)\n",
    "\n",
    "train_features = data['train_features'].numpy()\n",
    "val_features = data['val_features'].numpy()\n",
    "test_features = data['test_features'].numpy()\n",
    "\n",
    "train_returns = data['train_prices'].numpy()\n",
    "val_returns = data['val_prices'].numpy()\n",
    "test_returns = data['test_prices'].numpy()\n",
    "\n",
    "scaler = GlobalMinMaxScaler()\n",
    "\n",
    "scaler.fit(\n",
    "    features_datasets=[train_features, val_features, test_features],\n",
    "    returns_datasets=[train_returns, val_returns, test_returns]\n",
    ")\n",
    "\n",
    "train_features_scaled = scaler.transform_features(train_features)\n",
    "val_features_scaled = scaler.transform_features(val_features)\n",
    "test_features_scaled = scaler.transform_features(test_features)\n",
    "\n",
    "train_returns_scaled = scaler.transform_returns(train_returns)\n",
    "val_returns_scaled = scaler.transform_returns(val_returns)\n",
    "test_returns_scaled = scaler.transform_returns(test_returns)\n",
    "\n",
    "train_features_scaled = torch.tensor(train_features_scaled, dtype=torch.float32)\n",
    "val_features_scaled = torch.tensor(val_features_scaled, dtype=torch.float32)\n",
    "test_features_scaled = torch.tensor(test_features_scaled, dtype=torch.float32)\n",
    "\n",
    "train_returns_scaled = torch.tensor(train_returns_scaled, dtype=torch.float32)\n",
    "val_returns_scaled = torch.tensor(val_returns_scaled, dtype=torch.float32)\n",
    "test_returns_scaled = torch.tensor(test_returns_scaled, dtype=torch.float32)\n",
    "\n",
    "train_ds = StockDataset(train_features_scaled, train_returns_scaled)\n",
    "val_ds = StockDataset(val_features_scaled, val_returns_scaled)\n",
    "test_ds = StockDataset(test_features_scaled, test_returns_scaled)\n",
    "num_latent = data['num_latent']\n",
    "\n",
    "train_dataloader = DataLoader(train_ds, shuffle=True, batch_size=batch_size)\n",
    "valid_dataloader = DataLoader(val_ds, shuffle=False, batch_size=batch_size)\n",
    "test_dataloader = DataLoader(test_ds, shuffle=False, batch_size=batch_size)\n",
    "\n",
    "def unscale_features(features):\n",
    "    return torch.tensor(scaler.inverse_transform_features(features.cpu().numpy()), dtype=torch.float32)\n",
    "\n",
    "def unscale_returns(returns):\n",
    "    return torch.tensor(scaler.inverse_transform_returns(returns.cpu().numpy()), dtype=torch.float32)"
   ]
  },
  {
   "cell_type": "code",
   "execution_count": 8,
   "metadata": {},
   "outputs": [
    {
     "name": "stdout",
     "output_type": "stream",
     "text": [
      "*************** Using cpu ***************\n"
     ]
    }
   ],
   "source": [
    "feature_extractor = FeatureExtractor(num_latent=num_latent, hidden_size=hidden_size)\n",
    "factor_encoder = FactorEncoder(num_factors=num_factor, num_portfolio=num_latent, hidden_size=hidden_size)\n",
    "alpha_layer = AlphaLayer(hidden_size)\n",
    "beta_layer = BetaLayer(hidden_size, num_factor)\n",
    "factor_decoder = FactorDecoder(alpha_layer, beta_layer)\n",
    "factor_predictor = FactorPredictor(batch_size, hidden_size, num_factor)\n",
    "# factorVAE = FactorVAE(feature_extractor, factor_encoder, factor_decoder, factor_predictor)\n",
    "factorVAE = FactorVAEWithNCP(feature_extractor, factor_encoder, factor_decoder, factor_predictor, num_latent=num_latent)\n",
    "\n",
    "\n",
    "device = torch.device(\"cuda\" if torch.cuda.is_available() else \"cpu\")\n",
    "print(f\"*************** Using {device} ***************\")\n",
    "    \n",
    "factorVAE.to(device)\n",
    "best_val_loss = 10000.0\n",
    "optimizer = torch.optim.Adam(factorVAE.parameters(), lr=lr)        "
   ]
  },
  {
   "cell_type": "code",
   "execution_count": 9,
   "metadata": {},
   "outputs": [
    {
     "name": "stderr",
     "output_type": "stream",
     "text": [
      "Training: 100%|██████████| 3603/3603 [02:44<00:00, 21.84it/s, loss=-1]    \n",
      "Validation: 100%|██████████| 185/185 [00:02<00:00, 68.59it/s]\n"
     ]
    },
    {
     "name": "stdout",
     "output_type": "stream",
     "text": [
      "Epoch 1: Train Loss: -0.9864, Validation Loss: -0.9929\n"
     ]
    },
    {
     "name": "stderr",
     "output_type": "stream",
     "text": [
      "Training: 100%|██████████| 3603/3603 [02:32<00:00, 23.58it/s, loss=-0.995]\n",
      "Validation: 100%|██████████| 185/185 [00:02<00:00, 69.51it/s]\n"
     ]
    },
    {
     "name": "stdout",
     "output_type": "stream",
     "text": [
      "Epoch 2: Train Loss: -0.9997, Validation Loss: -0.9991\n"
     ]
    },
    {
     "name": "stderr",
     "output_type": "stream",
     "text": [
      "Training: 100%|██████████| 3603/3603 [02:38<00:00, 22.77it/s, loss=-0.988]\n",
      "Validation: 100%|██████████| 185/185 [00:02<00:00, 68.97it/s]\n"
     ]
    },
    {
     "name": "stdout",
     "output_type": "stream",
     "text": [
      "Epoch 3: Train Loss: -0.9999, Validation Loss: -1.0009\n"
     ]
    },
    {
     "name": "stderr",
     "output_type": "stream",
     "text": [
      "Training: 100%|██████████| 3603/3603 [02:36<00:00, 23.09it/s, loss=-0.989]\n",
      "Validation: 100%|██████████| 185/185 [00:02<00:00, 70.21it/s]\n"
     ]
    },
    {
     "name": "stdout",
     "output_type": "stream",
     "text": [
      "Epoch 4: Train Loss: -1.0000, Validation Loss: -1.0010\n"
     ]
    },
    {
     "name": "stderr",
     "output_type": "stream",
     "text": [
      "Training: 100%|██████████| 3603/3603 [04:39<00:00, 12.90it/s, loss=-1]    \n",
      "Validation: 100%|██████████| 185/185 [00:08<00:00, 22.93it/s]\n"
     ]
    },
    {
     "name": "stdout",
     "output_type": "stream",
     "text": [
      "Epoch 5: Train Loss: -1.0002, Validation Loss: -0.9982\n"
     ]
    },
    {
     "name": "stderr",
     "output_type": "stream",
     "text": [
      "Training: 100%|██████████| 3603/3603 [04:47<00:00, 12.54it/s, loss=-1.01] \n",
      "Validation: 100%|██████████| 185/185 [00:03<00:00, 61.00it/s]\n"
     ]
    },
    {
     "name": "stdout",
     "output_type": "stream",
     "text": [
      "Epoch 6: Train Loss: -1.0001, Validation Loss: -1.0004\n"
     ]
    },
    {
     "name": "stderr",
     "output_type": "stream",
     "text": [
      "Training: 100%|██████████| 3603/3603 [02:40<00:00, 22.39it/s, loss=-1.03] \n",
      "Validation: 100%|██████████| 185/185 [00:02<00:00, 64.30it/s]\n"
     ]
    },
    {
     "name": "stdout",
     "output_type": "stream",
     "text": [
      "Epoch 7: Train Loss: -1.0001, Validation Loss: -1.0010\n"
     ]
    },
    {
     "name": "stderr",
     "output_type": "stream",
     "text": [
      "Training: 100%|██████████| 3603/3603 [02:33<00:00, 23.44it/s, loss=-1]    \n",
      "Validation: 100%|██████████| 185/185 [00:02<00:00, 63.23it/s]\n"
     ]
    },
    {
     "name": "stdout",
     "output_type": "stream",
     "text": [
      "Epoch 8: Train Loss: -1.0005, Validation Loss: -0.9997\n"
     ]
    },
    {
     "name": "stderr",
     "output_type": "stream",
     "text": [
      "Training: 100%|██████████| 3603/3603 [02:36<00:00, 23.01it/s, loss=-1]    \n",
      "Validation: 100%|██████████| 185/185 [00:02<00:00, 62.81it/s]\n"
     ]
    },
    {
     "name": "stdout",
     "output_type": "stream",
     "text": [
      "Epoch 9: Train Loss: -0.9997, Validation Loss: -1.0016\n"
     ]
    },
    {
     "name": "stderr",
     "output_type": "stream",
     "text": [
      "Training: 100%|██████████| 3603/3603 [02:33<00:00, 23.52it/s, loss=-0.993]\n",
      "Validation: 100%|██████████| 185/185 [00:02<00:00, 69.49it/s]\n"
     ]
    },
    {
     "name": "stdout",
     "output_type": "stream",
     "text": [
      "Epoch 10: Train Loss: -1.0000, Validation Loss: -0.9984\n"
     ]
    },
    {
     "name": "stderr",
     "output_type": "stream",
     "text": [
      "Training: 100%|██████████| 3603/3603 [02:31<00:00, 23.76it/s, loss=-1.01] \n",
      "Validation: 100%|██████████| 185/185 [00:02<00:00, 62.97it/s]\n"
     ]
    },
    {
     "name": "stdout",
     "output_type": "stream",
     "text": [
      "Epoch 11: Train Loss: -1.0003, Validation Loss: -0.9995\n"
     ]
    },
    {
     "name": "stderr",
     "output_type": "stream",
     "text": [
      "Training: 100%|██████████| 3603/3603 [02:31<00:00, 23.79it/s, loss=-0.994]\n",
      "Validation: 100%|██████████| 185/185 [00:02<00:00, 69.36it/s]\n"
     ]
    },
    {
     "name": "stdout",
     "output_type": "stream",
     "text": [
      "Epoch 12: Train Loss: -0.9999, Validation Loss: -0.9992\n"
     ]
    },
    {
     "name": "stderr",
     "output_type": "stream",
     "text": [
      "Training: 100%|██████████| 3603/3603 [02:31<00:00, 23.81it/s, loss=-1.02] \n",
      "Validation: 100%|██████████| 185/185 [00:02<00:00, 68.46it/s]\n"
     ]
    },
    {
     "name": "stdout",
     "output_type": "stream",
     "text": [
      "Epoch 13: Train Loss: -0.9999, Validation Loss: -1.0000\n"
     ]
    },
    {
     "name": "stderr",
     "output_type": "stream",
     "text": [
      "Training: 100%|██████████| 3603/3603 [02:29<00:00, 24.09it/s, loss=-0.976]\n",
      "Validation: 100%|██████████| 185/185 [00:02<00:00, 72.26it/s]\n"
     ]
    },
    {
     "name": "stdout",
     "output_type": "stream",
     "text": [
      "Epoch 14: Train Loss: -0.9996, Validation Loss: -1.0007\n"
     ]
    },
    {
     "name": "stderr",
     "output_type": "stream",
     "text": [
      "Training: 100%|██████████| 3603/3603 [02:30<00:00, 23.88it/s, loss=-0.997]\n",
      "Validation: 100%|██████████| 185/185 [00:02<00:00, 64.79it/s]\n"
     ]
    },
    {
     "name": "stdout",
     "output_type": "stream",
     "text": [
      "Epoch 15: Train Loss: -0.9997, Validation Loss: -1.0005\n"
     ]
    },
    {
     "name": "stderr",
     "output_type": "stream",
     "text": [
      "Training: 100%|██████████| 3603/3603 [02:29<00:00, 24.12it/s, loss=-0.992]\n",
      "Validation: 100%|██████████| 185/185 [00:02<00:00, 67.27it/s]\n"
     ]
    },
    {
     "name": "stdout",
     "output_type": "stream",
     "text": [
      "Epoch 16: Train Loss: -1.0002, Validation Loss: -0.9984\n"
     ]
    },
    {
     "name": "stderr",
     "output_type": "stream",
     "text": [
      "Training: 100%|██████████| 3603/3603 [02:49<00:00, 21.31it/s, loss=-1.04] \n",
      "Validation: 100%|██████████| 185/185 [00:03<00:00, 60.61it/s]\n"
     ]
    },
    {
     "name": "stdout",
     "output_type": "stream",
     "text": [
      "Epoch 17: Train Loss: -1.0001, Validation Loss: -0.9991\n"
     ]
    },
    {
     "name": "stderr",
     "output_type": "stream",
     "text": [
      "Training: 100%|██████████| 3603/3603 [03:54<00:00, 15.35it/s, loss=-0.985]\n",
      "Validation: 100%|██████████| 185/185 [00:02<00:00, 62.70it/s]\n"
     ]
    },
    {
     "name": "stdout",
     "output_type": "stream",
     "text": [
      "Epoch 18: Train Loss: -1.0002, Validation Loss: -0.9985\n"
     ]
    },
    {
     "name": "stderr",
     "output_type": "stream",
     "text": [
      "Training: 100%|██████████| 3603/3603 [03:12<00:00, 18.74it/s, loss=-0.999]\n",
      "Validation: 100%|██████████| 185/185 [00:03<00:00, 58.20it/s]\n"
     ]
    },
    {
     "name": "stdout",
     "output_type": "stream",
     "text": [
      "Epoch 19: Train Loss: -1.0007, Validation Loss: -1.0007\n"
     ]
    },
    {
     "name": "stderr",
     "output_type": "stream",
     "text": [
      "Training: 100%|██████████| 3603/3603 [03:45<00:00, 15.95it/s, loss=-0.985]\n",
      "Validation: 100%|██████████| 185/185 [00:02<00:00, 61.98it/s]\n"
     ]
    },
    {
     "name": "stdout",
     "output_type": "stream",
     "text": [
      "Epoch 20: Train Loss: -0.9999, Validation Loss: -0.9995\n"
     ]
    },
    {
     "name": "stderr",
     "output_type": "stream",
     "text": [
      "Training: 100%|██████████| 3603/3603 [03:56<00:00, 15.24it/s, loss=-1]    \n",
      "Validation: 100%|██████████| 185/185 [00:03<00:00, 61.19it/s]\n"
     ]
    },
    {
     "name": "stdout",
     "output_type": "stream",
     "text": [
      "Epoch 21: Train Loss: -1.0000, Validation Loss: -1.0004\n"
     ]
    },
    {
     "name": "stderr",
     "output_type": "stream",
     "text": [
      "Training: 100%|██████████| 3603/3603 [03:20<00:00, 17.93it/s, loss=-1.03] \n",
      "Validation: 100%|██████████| 185/185 [00:02<00:00, 66.31it/s]\n"
     ]
    },
    {
     "name": "stdout",
     "output_type": "stream",
     "text": [
      "Epoch 22: Train Loss: -1.0002, Validation Loss: -1.0010\n"
     ]
    },
    {
     "name": "stderr",
     "output_type": "stream",
     "text": [
      "Training: 100%|██████████| 3603/3603 [02:44<00:00, 21.91it/s, loss=-1.02] \n",
      "Validation: 100%|██████████| 185/185 [00:02<00:00, 70.11it/s]\n"
     ]
    },
    {
     "name": "stdout",
     "output_type": "stream",
     "text": [
      "Epoch 23: Train Loss: -1.0003, Validation Loss: -0.9989\n"
     ]
    },
    {
     "name": "stderr",
     "output_type": "stream",
     "text": [
      "Training: 100%|██████████| 3603/3603 [02:35<00:00, 23.24it/s, loss=-0.978]\n",
      "Validation: 100%|██████████| 185/185 [00:02<00:00, 68.72it/s]\n"
     ]
    },
    {
     "name": "stdout",
     "output_type": "stream",
     "text": [
      "Epoch 24: Train Loss: -1.0004, Validation Loss: -0.9998\n"
     ]
    },
    {
     "name": "stderr",
     "output_type": "stream",
     "text": [
      "Training: 100%|██████████| 3603/3603 [02:47<00:00, 21.54it/s, loss=-1.01] \n",
      "Validation: 100%|██████████| 185/185 [00:02<00:00, 66.87it/s]\n"
     ]
    },
    {
     "name": "stdout",
     "output_type": "stream",
     "text": [
      "Epoch 25: Train Loss: -0.9997, Validation Loss: -1.0001\n"
     ]
    },
    {
     "name": "stderr",
     "output_type": "stream",
     "text": [
      "Training: 100%|██████████| 3603/3603 [03:00<00:00, 19.96it/s, loss=-0.981]\n",
      "Validation: 100%|██████████| 185/185 [00:02<00:00, 62.51it/s]\n"
     ]
    },
    {
     "name": "stdout",
     "output_type": "stream",
     "text": [
      "Epoch 26: Train Loss: -1.0003, Validation Loss: -0.9997\n"
     ]
    },
    {
     "name": "stderr",
     "output_type": "stream",
     "text": [
      "Training: 100%|██████████| 3603/3603 [02:58<00:00, 20.21it/s, loss=-1]    \n",
      "Validation: 100%|██████████| 185/185 [00:03<00:00, 59.93it/s]\n"
     ]
    },
    {
     "name": "stdout",
     "output_type": "stream",
     "text": [
      "Epoch 27: Train Loss: -1.0002, Validation Loss: -1.0003\n"
     ]
    },
    {
     "name": "stderr",
     "output_type": "stream",
     "text": [
      "Training: 100%|██████████| 3603/3603 [03:35<00:00, 16.70it/s, loss=-0.988]\n",
      "Validation: 100%|██████████| 185/185 [00:04<00:00, 39.58it/s]\n"
     ]
    },
    {
     "name": "stdout",
     "output_type": "stream",
     "text": [
      "Epoch 28: Train Loss: -1.0003, Validation Loss: -1.0005\n"
     ]
    },
    {
     "name": "stderr",
     "output_type": "stream",
     "text": [
      "Training: 100%|██████████| 3603/3603 [03:00<00:00, 19.93it/s, loss=-0.993]\n",
      "Validation: 100%|██████████| 185/185 [00:03<00:00, 55.60it/s]\n"
     ]
    },
    {
     "name": "stdout",
     "output_type": "stream",
     "text": [
      "Epoch 29: Train Loss: -1.0000, Validation Loss: -1.0008\n"
     ]
    },
    {
     "name": "stderr",
     "output_type": "stream",
     "text": [
      "Training: 100%|██████████| 3603/3603 [02:58<00:00, 20.21it/s, loss=-0.986]\n",
      "Validation: 100%|██████████| 185/185 [00:03<00:00, 61.19it/s]\n"
     ]
    },
    {
     "name": "stdout",
     "output_type": "stream",
     "text": [
      "Epoch 30: Train Loss: -0.9999, Validation Loss: -0.9994\n"
     ]
    },
    {
     "name": "stderr",
     "output_type": "stream",
     "text": [
      "Training: 100%|██████████| 3603/3603 [02:51<00:00, 21.01it/s, loss=-0.999]\n",
      "Validation: 100%|██████████| 185/185 [00:03<00:00, 57.53it/s]\n"
     ]
    },
    {
     "name": "stdout",
     "output_type": "stream",
     "text": [
      "Epoch 31: Train Loss: -1.0000, Validation Loss: -1.0007\n"
     ]
    },
    {
     "name": "stderr",
     "output_type": "stream",
     "text": [
      "Training: 100%|██████████| 3603/3603 [03:10<00:00, 18.95it/s, loss=-1.02] \n",
      "Validation: 100%|██████████| 185/185 [00:03<00:00, 52.05it/s]\n"
     ]
    },
    {
     "name": "stdout",
     "output_type": "stream",
     "text": [
      "Epoch 32: Train Loss: -1.0000, Validation Loss: -0.9997\n"
     ]
    },
    {
     "name": "stderr",
     "output_type": "stream",
     "text": [
      "Training: 100%|██████████| 3603/3603 [03:11<00:00, 18.81it/s, loss=-0.99] \n",
      "Validation: 100%|██████████| 185/185 [00:03<00:00, 56.71it/s]\n"
     ]
    },
    {
     "name": "stdout",
     "output_type": "stream",
     "text": [
      "Epoch 33: Train Loss: -1.0001, Validation Loss: -0.9983\n"
     ]
    },
    {
     "name": "stderr",
     "output_type": "stream",
     "text": [
      "Training: 100%|██████████| 3603/3603 [03:03<00:00, 19.62it/s, loss=-0.997]\n",
      "Validation: 100%|██████████| 185/185 [00:02<00:00, 62.45it/s]\n"
     ]
    },
    {
     "name": "stdout",
     "output_type": "stream",
     "text": [
      "Epoch 34: Train Loss: -0.9999, Validation Loss: -1.0015\n"
     ]
    },
    {
     "name": "stderr",
     "output_type": "stream",
     "text": [
      "Training: 100%|██████████| 3603/3603 [02:40<00:00, 22.46it/s, loss=-0.972]\n",
      "Validation: 100%|██████████| 185/185 [00:02<00:00, 64.24it/s]"
     ]
    },
    {
     "name": "stdout",
     "output_type": "stream",
     "text": [
      "Epoch 35: Train Loss: -0.9994, Validation Loss: -0.9988\n"
     ]
    },
    {
     "name": "stderr",
     "output_type": "stream",
     "text": [
      "\n"
     ]
    }
   ],
   "source": [
    "training_epoch_loss = []\n",
    "validation_epoch_loss = []\n",
    "\n",
    "\n",
    "for epoch in range(epochs):\n",
    "    train_loss = train(factorVAE, train_dataloader, optimizer, seq_len)\n",
    "    val_loss = validate(factorVAE, valid_dataloader, seq_len)\n",
    "\n",
    "    training_epoch_loss.append(train_loss)\n",
    "    validation_epoch_loss.append(val_loss)\n",
    "\n",
    "    print(f\"Epoch {epoch+1}: Train Loss: {train_loss:.4f}, Validation Loss: {val_loss:.4f}\") \n",
    "    if val_loss < best_val_loss:\n",
    "        best_val_loss = val_loss\n",
    "        torch.save(factorVAE, path)"
   ]
  },
  {
   "cell_type": "code",
   "execution_count": 10,
   "metadata": {},
   "outputs": [
    {
     "data": {
      "text/plain": [
       "<function matplotlib.pyplot.show(close=None, block=None)>"
      ]
     },
     "execution_count": 10,
     "metadata": {},
     "output_type": "execute_result"
    },
    {
     "data": {
      "image/png": "[encoded data removed]",
      "text/plain": [
       "<Figure size 640x480 with 1 Axes>"
      ]
     },
     "metadata": {},
     "output_type": "display_data"
    }
   ],
   "source": [
    "plt.plot(training_epoch_loss, label='train_loss')\n",
    "plt.plot(validation_epoch_loss, label='val_loss')\n",
    "plt.xlabel(\"Epoch\")\n",
    "plt.ylabel(\"Loss\")\n",
    "\n",
    "plt.legend()\n",
    "plt.show"
   ]
  },
  {
   "cell_type": "code",
   "execution_count": 11,
   "metadata": {},
   "outputs": [
    {
     "name": "stderr",
     "output_type": "stream",
     "text": [
      "/tmp/ipykernel_28717/3991917126.py:14: FutureWarning: You are using `torch.load` with `weights_only=False` (the current default value), which uses the default pickle module implicitly. It is possible to construct malicious pickle data which will execute arbitrary code during unpickling (See https://github.com/pytorch/pytorch/blob/main/SECURITY.md#untrusted-models for more details). In a future release, the default value for `weights_only` will be flipped to `True`. This limits the functions that could be executed during unpickling. Arbitrary objects will no longer be allowed to be loaded via this mode unless they are explicitly allowlisted by the user via `torch.serialization.add_safe_globals`. We recommend you start setting `weights_only=True` for any use case where you don't have full control of the loaded file. Please open an issue on GitHub for any issues related to this experimental feature.\n",
      "  factorVAE = torch.load(path)\n"
     ]
    }
   ],
   "source": [
    "class TestStockDataset(Dataset):\n",
    "    def __init__(self, features, returns, dates, current_prices):\n",
    "        self.features = features\n",
    "        self.returns = returns\n",
    "        self.dates = dates\n",
    "        self.current_prices = current_prices\n",
    "\n",
    "    def __len__(self):\n",
    "        return len(self.returns)\n",
    "\n",
    "    def __getitem__(self, idx):\n",
    "        return self.features[idx], self.returns[idx], self.dates[idx], self.current_prices[idx]\n",
    "\n",
    "factorVAE = torch.load(path)\n",
    "factorVAE.to(device)\n",
    "\n",
    "test_ds = TestStockDataset(test_features_scaled, test_returns_scaled, data['test_dates'].numpy(), data['test_current_prices'].numpy())\n",
    "batch_size = 300\n",
    "test_dataloader = DataLoader(test_ds, shuffle=False, batch_size=batch_size)\n"
   ]
  },
  {
   "cell_type": "code",
   "execution_count": 12,
   "metadata": {},
   "outputs": [
    {
     "name": "stderr",
     "output_type": "stream",
     "text": [
      "100%|██████████| 463/463 [00:10<00:00, 45.72it/s]\n",
      "/mnt/c/Users/Maxwell Bruce/Desktop/honours/CurrentModels/myenv/lib/python3.10/site-packages/scipy/stats/_stats_py.py:4893: RuntimeWarning: invalid value encountered in subtract\n",
      "  xm = x - xmean\n",
      "/mnt/c/Users/Maxwell Bruce/Desktop/honours/CurrentModels/myenv/lib/python3.10/site-packages/scipy/stats/_stats_py.py:4893: RuntimeWarning: invalid value encountered in subtract\n",
      "  xm = x - xmean\n",
      "/mnt/c/Users/Maxwell Bruce/Desktop/honours/CurrentModels/myenv/lib/python3.10/site-packages/scipy/stats/_stats_py.py:4893: RuntimeWarning: invalid value encountered in subtract\n",
      "  xm = x - xmean\n",
      "/mnt/c/Users/Maxwell Bruce/Desktop/honours/CurrentModels/myenv/lib/python3.10/site-packages/scipy/stats/_stats_py.py:4893: RuntimeWarning: invalid value encountered in subtract\n",
      "  xm = x - xmean\n",
      "/mnt/c/Users/Maxwell Bruce/Desktop/honours/CurrentModels/myenv/lib/python3.10/site-packages/scipy/stats/_stats_py.py:4893: RuntimeWarning: invalid value encountered in subtract\n",
      "  xm = x - xmean\n",
      "/mnt/c/Users/Maxwell Bruce/Desktop/honours/CurrentModels/myenv/lib/python3.10/site-packages/scipy/stats/_stats_py.py:4893: RuntimeWarning: invalid value encountered in subtract\n",
      "  xm = x - xmean\n",
      "/mnt/c/Users/Maxwell Bruce/Desktop/honours/CurrentModels/myenv/lib/python3.10/site-packages/scipy/stats/_stats_py.py:4893: RuntimeWarning: invalid value encountered in subtract\n",
      "  xm = x - xmean\n",
      "/mnt/c/Users/Maxwell Bruce/Desktop/honours/CurrentModels/myenv/lib/python3.10/site-packages/scipy/stats/_stats_py.py:4893: RuntimeWarning: invalid value encountered in subtract\n",
      "  xm = x - xmean\n",
      "/mnt/c/Users/Maxwell Bruce/Desktop/honours/CurrentModels/myenv/lib/python3.10/site-packages/scipy/stats/_stats_py.py:4893: RuntimeWarning: invalid value encountered in subtract\n",
      "  xm = x - xmean\n",
      "/mnt/c/Users/Maxwell Bruce/Desktop/honours/CurrentModels/myenv/lib/python3.10/site-packages/scipy/stats/_stats_py.py:4893: RuntimeWarning: invalid value encountered in subtract\n",
      "  xm = x - xmean\n",
      "/mnt/c/Users/Maxwell Bruce/Desktop/honours/CurrentModels/myenv/lib/python3.10/site-packages/scipy/stats/_stats_py.py:4893: RuntimeWarning: invalid value encountered in subtract\n",
      "  xm = x - xmean\n",
      "/mnt/c/Users/Maxwell Bruce/Desktop/honours/CurrentModels/myenv/lib/python3.10/site-packages/scipy/stats/_stats_py.py:4893: RuntimeWarning: invalid value encountered in subtract\n",
      "  xm = x - xmean\n",
      "/mnt/c/Users/Maxwell Bruce/Desktop/honours/CurrentModels/myenv/lib/python3.10/site-packages/scipy/stats/_stats_py.py:4893: RuntimeWarning: invalid value encountered in subtract\n",
      "  xm = x - xmean\n",
      "/mnt/c/Users/Maxwell Bruce/Desktop/honours/CurrentModels/myenv/lib/python3.10/site-packages/scipy/stats/_stats_py.py:4893: RuntimeWarning: invalid value encountered in subtract\n",
      "  xm = x - xmean\n",
      "/mnt/c/Users/Maxwell Bruce/Desktop/honours/CurrentModels/myenv/lib/python3.10/site-packages/scipy/stats/_stats_py.py:4893: RuntimeWarning: invalid value encountered in subtract\n",
      "  xm = x - xmean\n",
      "/mnt/c/Users/Maxwell Bruce/Desktop/honours/CurrentModels/myenv/lib/python3.10/site-packages/scipy/stats/_stats_py.py:4893: RuntimeWarning: invalid value encountered in subtract\n",
      "  xm = x - xmean\n",
      "/mnt/c/Users/Maxwell Bruce/Desktop/honours/CurrentModels/myenv/lib/python3.10/site-packages/scipy/stats/_stats_py.py:4893: RuntimeWarning: invalid value encountered in subtract\n",
      "  xm = x - xmean\n",
      "/mnt/c/Users/Maxwell Bruce/Desktop/honours/CurrentModels/myenv/lib/python3.10/site-packages/scipy/stats/_stats_py.py:4893: RuntimeWarning: invalid value encountered in subtract\n",
      "  xm = x - xmean\n",
      "/mnt/c/Users/Maxwell Bruce/Desktop/honours/CurrentModels/myenv/lib/python3.10/site-packages/scipy/stats/_stats_py.py:4893: RuntimeWarning: invalid value encountered in subtract\n",
      "  xm = x - xmean\n",
      "/mnt/c/Users/Maxwell Bruce/Desktop/honours/CurrentModels/myenv/lib/python3.10/site-packages/scipy/stats/_stats_py.py:4893: RuntimeWarning: invalid value encountered in subtract\n",
      "  xm = x - xmean\n",
      "/mnt/c/Users/Maxwell Bruce/Desktop/honours/CurrentModels/myenv/lib/python3.10/site-packages/scipy/stats/_stats_py.py:4893: RuntimeWarning: invalid value encountered in subtract\n",
      "  xm = x - xmean\n",
      "/mnt/c/Users/Maxwell Bruce/Desktop/honours/CurrentModels/myenv/lib/python3.10/site-packages/scipy/stats/_stats_py.py:4893: RuntimeWarning: invalid value encountered in subtract\n",
      "  xm = x - xmean\n",
      "/mnt/c/Users/Maxwell Bruce/Desktop/honours/CurrentModels/myenv/lib/python3.10/site-packages/scipy/stats/_stats_py.py:4893: RuntimeWarning: invalid value encountered in subtract\n",
      "  xm = x - xmean\n",
      "/mnt/c/Users/Maxwell Bruce/Desktop/honours/CurrentModels/myenv/lib/python3.10/site-packages/scipy/stats/_stats_py.py:4893: RuntimeWarning: invalid value encountered in subtract\n",
      "  xm = x - xmean\n",
      "/mnt/c/Users/Maxwell Bruce/Desktop/honours/CurrentModels/myenv/lib/python3.10/site-packages/scipy/stats/_stats_py.py:4893: RuntimeWarning: invalid value encountered in subtract\n",
      "  xm = x - xmean\n",
      "/mnt/c/Users/Maxwell Bruce/Desktop/honours/CurrentModels/myenv/lib/python3.10/site-packages/scipy/stats/_stats_py.py:4893: RuntimeWarning: invalid value encountered in subtract\n",
      "  xm = x - xmean\n",
      "/mnt/c/Users/Maxwell Bruce/Desktop/honours/CurrentModels/myenv/lib/python3.10/site-packages/scipy/stats/_stats_py.py:4893: RuntimeWarning: invalid value encountered in subtract\n",
      "  xm = x - xmean\n",
      "/mnt/c/Users/Maxwell Bruce/Desktop/honours/CurrentModels/myenv/lib/python3.10/site-packages/scipy/stats/_stats_py.py:4893: RuntimeWarning: invalid value encountered in subtract\n",
      "  xm = x - xmean\n",
      "/mnt/c/Users/Maxwell Bruce/Desktop/honours/CurrentModels/myenv/lib/python3.10/site-packages/scipy/stats/_stats_py.py:4893: RuntimeWarning: invalid value encountered in subtract\n",
      "  xm = x - xmean\n",
      "/mnt/c/Users/Maxwell Bruce/Desktop/honours/CurrentModels/myenv/lib/python3.10/site-packages/scipy/stats/_stats_py.py:4893: RuntimeWarning: invalid value encountered in subtract\n",
      "  xm = x - xmean\n",
      "/mnt/c/Users/Maxwell Bruce/Desktop/honours/CurrentModels/myenv/lib/python3.10/site-packages/scipy/stats/_stats_py.py:4893: RuntimeWarning: invalid value encountered in subtract\n",
      "  xm = x - xmean\n",
      "/mnt/c/Users/Maxwell Bruce/Desktop/honours/CurrentModels/myenv/lib/python3.10/site-packages/scipy/stats/_stats_py.py:4893: RuntimeWarning: invalid value encountered in subtract\n",
      "  xm = x - xmean\n",
      "/mnt/c/Users/Maxwell Bruce/Desktop/honours/CurrentModels/myenv/lib/python3.10/site-packages/scipy/stats/_stats_py.py:4893: RuntimeWarning: invalid value encountered in subtract\n",
      "  xm = x - xmean\n",
      "/mnt/c/Users/Maxwell Bruce/Desktop/honours/CurrentModels/myenv/lib/python3.10/site-packages/scipy/stats/_stats_py.py:4893: RuntimeWarning: invalid value encountered in subtract\n",
      "  xm = x - xmean\n",
      "/mnt/c/Users/Maxwell Bruce/Desktop/honours/CurrentModels/myenv/lib/python3.10/site-packages/scipy/stats/_stats_py.py:4893: RuntimeWarning: invalid value encountered in subtract\n",
      "  xm = x - xmean\n",
      "/mnt/c/Users/Maxwell Bruce/Desktop/honours/CurrentModels/myenv/lib/python3.10/site-packages/scipy/stats/_stats_py.py:4893: RuntimeWarning: invalid value encountered in subtract\n",
      "  xm = x - xmean\n",
      "/mnt/c/Users/Maxwell Bruce/Desktop/honours/CurrentModels/myenv/lib/python3.10/site-packages/scipy/stats/_stats_py.py:4893: RuntimeWarning: invalid value encountered in subtract\n",
      "  xm = x - xmean\n",
      "/mnt/c/Users/Maxwell Bruce/Desktop/honours/CurrentModels/myenv/lib/python3.10/site-packages/scipy/stats/_stats_py.py:4893: RuntimeWarning: invalid value encountered in subtract\n",
      "  xm = x - xmean\n",
      "/mnt/c/Users/Maxwell Bruce/Desktop/honours/CurrentModels/myenv/lib/python3.10/site-packages/scipy/stats/_stats_py.py:4893: RuntimeWarning: invalid value encountered in subtract\n",
      "  xm = x - xmean\n",
      "/mnt/c/Users/Maxwell Bruce/Desktop/honours/CurrentModels/myenv/lib/python3.10/site-packages/scipy/stats/_stats_py.py:4893: RuntimeWarning: invalid value encountered in subtract\n",
      "  xm = x - xmean\n",
      "/mnt/c/Users/Maxwell Bruce/Desktop/honours/CurrentModels/myenv/lib/python3.10/site-packages/scipy/stats/_stats_py.py:4893: RuntimeWarning: invalid value encountered in subtract\n",
      "  xm = x - xmean\n",
      "/mnt/c/Users/Maxwell Bruce/Desktop/honours/CurrentModels/myenv/lib/python3.10/site-packages/scipy/stats/_stats_py.py:4893: RuntimeWarning: invalid value encountered in subtract\n",
      "  xm = x - xmean\n",
      "/mnt/c/Users/Maxwell Bruce/Desktop/honours/CurrentModels/myenv/lib/python3.10/site-packages/scipy/stats/_stats_py.py:4893: RuntimeWarning: invalid value encountered in subtract\n",
      "  xm = x - xmean\n",
      "/mnt/c/Users/Maxwell Bruce/Desktop/honours/CurrentModels/myenv/lib/python3.10/site-packages/scipy/stats/_stats_py.py:4893: RuntimeWarning: invalid value encountered in subtract\n",
      "  xm = x - xmean\n",
      "/mnt/c/Users/Maxwell Bruce/Desktop/honours/CurrentModels/myenv/lib/python3.10/site-packages/scipy/stats/_stats_py.py:4893: RuntimeWarning: invalid value encountered in subtract\n",
      "  xm = x - xmean\n",
      "/mnt/c/Users/Maxwell Bruce/Desktop/honours/CurrentModels/myenv/lib/python3.10/site-packages/scipy/stats/_stats_py.py:4893: RuntimeWarning: invalid value encountered in subtract\n",
      "  xm = x - xmean\n",
      "/mnt/c/Users/Maxwell Bruce/Desktop/honours/CurrentModels/myenv/lib/python3.10/site-packages/scipy/stats/_stats_py.py:4893: RuntimeWarning: invalid value encountered in subtract\n",
      "  xm = x - xmean\n",
      "/mnt/c/Users/Maxwell Bruce/Desktop/honours/CurrentModels/myenv/lib/python3.10/site-packages/scipy/stats/_stats_py.py:4893: RuntimeWarning: invalid value encountered in subtract\n",
      "  xm = x - xmean\n",
      "/mnt/c/Users/Maxwell Bruce/Desktop/honours/CurrentModels/myenv/lib/python3.10/site-packages/scipy/stats/_stats_py.py:4893: RuntimeWarning: invalid value encountered in subtract\n",
      "  xm = x - xmean\n",
      "/mnt/c/Users/Maxwell Bruce/Desktop/honours/CurrentModels/myenv/lib/python3.10/site-packages/scipy/stats/_stats_py.py:4893: RuntimeWarning: invalid value encountered in subtract\n",
      "  xm = x - xmean\n",
      "/mnt/c/Users/Maxwell Bruce/Desktop/honours/CurrentModels/myenv/lib/python3.10/site-packages/scipy/stats/_stats_py.py:4893: RuntimeWarning: invalid value encountered in subtract\n",
      "  xm = x - xmean\n",
      "/mnt/c/Users/Maxwell Bruce/Desktop/honours/CurrentModels/myenv/lib/python3.10/site-packages/scipy/stats/_stats_py.py:4893: RuntimeWarning: invalid value encountered in subtract\n",
      "  xm = x - xmean\n",
      "/mnt/c/Users/Maxwell Bruce/Desktop/honours/CurrentModels/myenv/lib/python3.10/site-packages/scipy/stats/_stats_py.py:4893: RuntimeWarning: invalid value encountered in subtract\n",
      "  xm = x - xmean\n",
      "/mnt/c/Users/Maxwell Bruce/Desktop/honours/CurrentModels/myenv/lib/python3.10/site-packages/numpy/_core/_methods.py:136: RuntimeWarning: invalid value encountered in reduce\n",
      "  ret = umr_sum(arr, axis, dtype, out, keepdims, where=where)\n",
      "/mnt/c/Users/Maxwell Bruce/Desktop/honours/CurrentModels/myenv/lib/python3.10/site-packages/numpy/_core/_methods.py:136: RuntimeWarning: invalid value encountered in reduce\n",
      "  ret = umr_sum(arr, axis, dtype, out, keepdims, where=where)\n",
      "/mnt/c/Users/Maxwell Bruce/Desktop/honours/CurrentModels/myenv/lib/python3.10/site-packages/numpy/_core/_methods.py:136: RuntimeWarning: invalid value encountered in reduce\n",
      "  ret = umr_sum(arr, axis, dtype, out, keepdims, where=where)\n",
      "/mnt/c/Users/Maxwell Bruce/Desktop/honours/CurrentModels/myenv/lib/python3.10/site-packages/scipy/stats/_stats_py.py:4893: RuntimeWarning: invalid value encountered in subtract\n",
      "  xm = x - xmean\n",
      "/mnt/c/Users/Maxwell Bruce/Desktop/honours/CurrentModels/myenv/lib/python3.10/site-packages/numpy/_core/_methods.py:136: RuntimeWarning: invalid value encountered in reduce\n",
      "  ret = umr_sum(arr, axis, dtype, out, keepdims, where=where)\n",
      "/mnt/c/Users/Maxwell Bruce/Desktop/honours/CurrentModels/myenv/lib/python3.10/site-packages/scipy/stats/_stats_py.py:4893: RuntimeWarning: invalid value encountered in subtract\n",
      "  xm = x - xmean\n",
      "/mnt/c/Users/Maxwell Bruce/Desktop/honours/CurrentModels/myenv/lib/python3.10/site-packages/scipy/stats/_stats_py.py:4893: RuntimeWarning: invalid value encountered in subtract\n",
      "  xm = x - xmean\n",
      "/mnt/c/Users/Maxwell Bruce/Desktop/honours/CurrentModels/myenv/lib/python3.10/site-packages/scipy/stats/_stats_py.py:4893: RuntimeWarning: invalid value encountered in subtract\n",
      "  xm = x - xmean\n",
      "/mnt/c/Users/Maxwell Bruce/Desktop/honours/CurrentModels/myenv/lib/python3.10/site-packages/scipy/stats/_stats_py.py:4893: RuntimeWarning: invalid value encountered in subtract\n",
      "  xm = x - xmean\n",
      "/mnt/c/Users/Maxwell Bruce/Desktop/honours/CurrentModels/myenv/lib/python3.10/site-packages/scipy/stats/_stats_py.py:4893: RuntimeWarning: invalid value encountered in subtract\n",
      "  xm = x - xmean\n",
      "/mnt/c/Users/Maxwell Bruce/Desktop/honours/CurrentModels/myenv/lib/python3.10/site-packages/scipy/stats/_stats_py.py:4893: RuntimeWarning: invalid value encountered in subtract\n",
      "  xm = x - xmean\n",
      "/mnt/c/Users/Maxwell Bruce/Desktop/honours/CurrentModels/myenv/lib/python3.10/site-packages/scipy/stats/_stats_py.py:4893: RuntimeWarning: invalid value encountered in subtract\n",
      "  xm = x - xmean\n",
      "/mnt/c/Users/Maxwell Bruce/Desktop/honours/CurrentModels/myenv/lib/python3.10/site-packages/scipy/stats/_stats_py.py:4893: RuntimeWarning: invalid value encountered in subtract\n",
      "  xm = x - xmean\n",
      "/mnt/c/Users/Maxwell Bruce/Desktop/honours/CurrentModels/myenv/lib/python3.10/site-packages/scipy/stats/_stats_py.py:4893: RuntimeWarning: invalid value encountered in subtract\n",
      "  xm = x - xmean\n",
      "/mnt/c/Users/Maxwell Bruce/Desktop/honours/CurrentModels/myenv/lib/python3.10/site-packages/scipy/stats/_stats_py.py:4893: RuntimeWarning: invalid value encountered in subtract\n",
      "  xm = x - xmean\n",
      "/mnt/c/Users/Maxwell Bruce/Desktop/honours/CurrentModels/myenv/lib/python3.10/site-packages/scipy/stats/_stats_py.py:4893: RuntimeWarning: invalid value encountered in subtract\n",
      "  xm = x - xmean\n",
      "/mnt/c/Users/Maxwell Bruce/Desktop/honours/CurrentModels/myenv/lib/python3.10/site-packages/scipy/stats/_stats_py.py:4893: RuntimeWarning: invalid value encountered in subtract\n",
      "  xm = x - xmean\n",
      "/mnt/c/Users/Maxwell Bruce/Desktop/honours/CurrentModels/myenv/lib/python3.10/site-packages/scipy/stats/_stats_py.py:4893: RuntimeWarning: invalid value encountered in subtract\n",
      "  xm = x - xmean\n",
      "/mnt/c/Users/Maxwell Bruce/Desktop/honours/CurrentModels/myenv/lib/python3.10/site-packages/scipy/stats/_stats_py.py:4893: RuntimeWarning: invalid value encountered in subtract\n",
      "  xm = x - xmean\n",
      "/mnt/c/Users/Maxwell Bruce/Desktop/honours/CurrentModels/myenv/lib/python3.10/site-packages/scipy/stats/_stats_py.py:4893: RuntimeWarning: invalid value encountered in subtract\n",
      "  xm = x - xmean\n",
      "/mnt/c/Users/Maxwell Bruce/Desktop/honours/CurrentModels/myenv/lib/python3.10/site-packages/scipy/stats/_stats_py.py:4893: RuntimeWarning: invalid value encountered in subtract\n",
      "  xm = x - xmean\n",
      "/mnt/c/Users/Maxwell Bruce/Desktop/honours/CurrentModels/myenv/lib/python3.10/site-packages/scipy/stats/_stats_py.py:4893: RuntimeWarning: invalid value encountered in subtract\n",
      "  xm = x - xmean\n",
      "/mnt/c/Users/Maxwell Bruce/Desktop/honours/CurrentModels/myenv/lib/python3.10/site-packages/numpy/_core/_methods.py:136: RuntimeWarning: invalid value encountered in reduce\n",
      "  ret = umr_sum(arr, axis, dtype, out, keepdims, where=where)\n",
      "/mnt/c/Users/Maxwell Bruce/Desktop/honours/CurrentModels/myenv/lib/python3.10/site-packages/scipy/stats/_stats_py.py:4893: RuntimeWarning: invalid value encountered in subtract\n",
      "  xm = x - xmean\n",
      "/mnt/c/Users/Maxwell Bruce/Desktop/honours/CurrentModels/myenv/lib/python3.10/site-packages/scipy/stats/_stats_py.py:4893: RuntimeWarning: invalid value encountered in subtract\n",
      "  xm = x - xmean\n",
      "/mnt/c/Users/Maxwell Bruce/Desktop/honours/CurrentModels/myenv/lib/python3.10/site-packages/scipy/stats/_stats_py.py:4893: RuntimeWarning: invalid value encountered in subtract\n",
      "  xm = x - xmean\n",
      "/mnt/c/Users/Maxwell Bruce/Desktop/honours/CurrentModels/myenv/lib/python3.10/site-packages/scipy/stats/_stats_py.py:4893: RuntimeWarning: invalid value encountered in subtract\n",
      "  xm = x - xmean\n",
      "/mnt/c/Users/Maxwell Bruce/Desktop/honours/CurrentModels/myenv/lib/python3.10/site-packages/scipy/stats/_stats_py.py:4893: RuntimeWarning: invalid value encountered in subtract\n",
      "  xm = x - xmean\n",
      "/mnt/c/Users/Maxwell Bruce/Desktop/honours/CurrentModels/myenv/lib/python3.10/site-packages/scipy/stats/_stats_py.py:4893: RuntimeWarning: invalid value encountered in subtract\n",
      "  xm = x - xmean\n",
      "/mnt/c/Users/Maxwell Bruce/Desktop/honours/CurrentModels/myenv/lib/python3.10/site-packages/scipy/stats/_stats_py.py:4893: RuntimeWarning: invalid value encountered in subtract\n",
      "  xm = x - xmean\n",
      "/mnt/c/Users/Maxwell Bruce/Desktop/honours/CurrentModels/myenv/lib/python3.10/site-packages/scipy/stats/_stats_py.py:4893: RuntimeWarning: invalid value encountered in subtract\n",
      "  xm = x - xmean\n",
      "/mnt/c/Users/Maxwell Bruce/Desktop/honours/CurrentModels/myenv/lib/python3.10/site-packages/scipy/stats/_stats_py.py:4893: RuntimeWarning: invalid value encountered in subtract\n",
      "  xm = x - xmean\n",
      "/mnt/c/Users/Maxwell Bruce/Desktop/honours/CurrentModels/myenv/lib/python3.10/site-packages/scipy/stats/_stats_py.py:4893: RuntimeWarning: invalid value encountered in subtract\n",
      "  xm = x - xmean\n",
      "/mnt/c/Users/Maxwell Bruce/Desktop/honours/CurrentModels/myenv/lib/python3.10/site-packages/scipy/stats/_stats_py.py:4893: RuntimeWarning: invalid value encountered in subtract\n",
      "  xm = x - xmean\n",
      "/mnt/c/Users/Maxwell Bruce/Desktop/honours/CurrentModels/myenv/lib/python3.10/site-packages/scipy/stats/_stats_py.py:4893: RuntimeWarning: invalid value encountered in subtract\n",
      "  xm = x - xmean\n",
      "/mnt/c/Users/Maxwell Bruce/Desktop/honours/CurrentModels/myenv/lib/python3.10/site-packages/scipy/stats/_stats_py.py:4893: RuntimeWarning: invalid value encountered in subtract\n",
      "  xm = x - xmean\n",
      "/mnt/c/Users/Maxwell Bruce/Desktop/honours/CurrentModels/myenv/lib/python3.10/site-packages/scipy/stats/_stats_py.py:4893: RuntimeWarning: invalid value encountered in subtract\n",
      "  xm = x - xmean\n",
      "/mnt/c/Users/Maxwell Bruce/Desktop/honours/CurrentModels/myenv/lib/python3.10/site-packages/scipy/stats/_stats_py.py:4893: RuntimeWarning: invalid value encountered in subtract\n",
      "  xm = x - xmean\n",
      "/mnt/c/Users/Maxwell Bruce/Desktop/honours/CurrentModels/myenv/lib/python3.10/site-packages/scipy/stats/_stats_py.py:4893: RuntimeWarning: invalid value encountered in subtract\n",
      "  xm = x - xmean\n",
      "/mnt/c/Users/Maxwell Bruce/Desktop/honours/CurrentModels/myenv/lib/python3.10/site-packages/scipy/stats/_stats_py.py:4893: RuntimeWarning: invalid value encountered in subtract\n",
      "  xm = x - xmean\n",
      "/mnt/c/Users/Maxwell Bruce/Desktop/honours/CurrentModels/myenv/lib/python3.10/site-packages/scipy/stats/_stats_py.py:4893: RuntimeWarning: invalid value encountered in subtract\n",
      "  xm = x - xmean\n",
      "/mnt/c/Users/Maxwell Bruce/Desktop/honours/CurrentModels/myenv/lib/python3.10/site-packages/scipy/stats/_stats_py.py:4893: RuntimeWarning: invalid value encountered in subtract\n",
      "  xm = x - xmean\n",
      "/mnt/c/Users/Maxwell Bruce/Desktop/honours/CurrentModels/myenv/lib/python3.10/site-packages/scipy/stats/_stats_py.py:4893: RuntimeWarning: invalid value encountered in subtract\n",
      "  xm = x - xmean\n",
      "/mnt/c/Users/Maxwell Bruce/Desktop/honours/CurrentModels/myenv/lib/python3.10/site-packages/scipy/stats/_stats_py.py:4893: RuntimeWarning: invalid value encountered in subtract\n",
      "  xm = x - xmean\n",
      "/mnt/c/Users/Maxwell Bruce/Desktop/honours/CurrentModels/myenv/lib/python3.10/site-packages/scipy/stats/_stats_py.py:4893: RuntimeWarning: invalid value encountered in subtract\n",
      "  xm = x - xmean\n",
      "/mnt/c/Users/Maxwell Bruce/Desktop/honours/CurrentModels/myenv/lib/python3.10/site-packages/scipy/stats/_stats_py.py:4893: RuntimeWarning: invalid value encountered in subtract\n",
      "  xm = x - xmean\n",
      "/mnt/c/Users/Maxwell Bruce/Desktop/honours/CurrentModels/myenv/lib/python3.10/site-packages/scipy/stats/_stats_py.py:4893: RuntimeWarning: invalid value encountered in subtract\n",
      "  xm = x - xmean\n",
      "/mnt/c/Users/Maxwell Bruce/Desktop/honours/CurrentModels/myenv/lib/python3.10/site-packages/scipy/stats/_stats_py.py:4893: RuntimeWarning: invalid value encountered in subtract\n",
      "  xm = x - xmean\n",
      "/mnt/c/Users/Maxwell Bruce/Desktop/honours/CurrentModels/myenv/lib/python3.10/site-packages/scipy/stats/_stats_py.py:4893: RuntimeWarning: invalid value encountered in subtract\n",
      "  xm = x - xmean\n",
      "/mnt/c/Users/Maxwell Bruce/Desktop/honours/CurrentModels/myenv/lib/python3.10/site-packages/scipy/stats/_stats_py.py:4893: RuntimeWarning: invalid value encountered in subtract\n",
      "  xm = x - xmean\n",
      "/mnt/c/Users/Maxwell Bruce/Desktop/honours/CurrentModels/myenv/lib/python3.10/site-packages/scipy/stats/_stats_py.py:4893: RuntimeWarning: invalid value encountered in subtract\n",
      "  xm = x - xmean\n",
      "/mnt/c/Users/Maxwell Bruce/Desktop/honours/CurrentModels/myenv/lib/python3.10/site-packages/scipy/stats/_stats_py.py:4893: RuntimeWarning: invalid value encountered in subtract\n",
      "  xm = x - xmean\n",
      "/mnt/c/Users/Maxwell Bruce/Desktop/honours/CurrentModels/myenv/lib/python3.10/site-packages/scipy/stats/_stats_py.py:4893: RuntimeWarning: invalid value encountered in subtract\n",
      "  xm = x - xmean\n",
      "/mnt/c/Users/Maxwell Bruce/Desktop/honours/CurrentModels/myenv/lib/python3.10/site-packages/scipy/stats/_stats_py.py:4893: RuntimeWarning: invalid value encountered in subtract\n",
      "  xm = x - xmean\n",
      "/mnt/c/Users/Maxwell Bruce/Desktop/honours/CurrentModels/myenv/lib/python3.10/site-packages/scipy/stats/_stats_py.py:4893: RuntimeWarning: invalid value encountered in subtract\n",
      "  xm = x - xmean\n",
      "/mnt/c/Users/Maxwell Bruce/Desktop/honours/CurrentModels/myenv/lib/python3.10/site-packages/scipy/stats/_stats_py.py:4893: RuntimeWarning: invalid value encountered in subtract\n",
      "  xm = x - xmean\n",
      "/mnt/c/Users/Maxwell Bruce/Desktop/honours/CurrentModels/myenv/lib/python3.10/site-packages/scipy/stats/_stats_py.py:4893: RuntimeWarning: invalid value encountered in subtract\n",
      "  xm = x - xmean\n",
      "/mnt/c/Users/Maxwell Bruce/Desktop/honours/CurrentModels/myenv/lib/python3.10/site-packages/scipy/stats/_stats_py.py:4893: RuntimeWarning: invalid value encountered in subtract\n",
      "  xm = x - xmean\n",
      "/mnt/c/Users/Maxwell Bruce/Desktop/honours/CurrentModels/myenv/lib/python3.10/site-packages/scipy/stats/_stats_py.py:4893: RuntimeWarning: invalid value encountered in subtract\n",
      "  xm = x - xmean\n",
      "/mnt/c/Users/Maxwell Bruce/Desktop/honours/CurrentModels/myenv/lib/python3.10/site-packages/scipy/stats/_stats_py.py:4893: RuntimeWarning: invalid value encountered in subtract\n",
      "  xm = x - xmean\n",
      "/mnt/c/Users/Maxwell Bruce/Desktop/honours/CurrentModels/myenv/lib/python3.10/site-packages/scipy/stats/_stats_py.py:4893: RuntimeWarning: invalid value encountered in subtract\n",
      "  xm = x - xmean\n",
      "/mnt/c/Users/Maxwell Bruce/Desktop/honours/CurrentModels/myenv/lib/python3.10/site-packages/scipy/stats/_stats_py.py:4893: RuntimeWarning: invalid value encountered in subtract\n",
      "  xm = x - xmean\n",
      "/mnt/c/Users/Maxwell Bruce/Desktop/honours/CurrentModels/myenv/lib/python3.10/site-packages/numpy/_core/_methods.py:136: RuntimeWarning: invalid value encountered in reduce\n",
      "  ret = umr_sum(arr, axis, dtype, out, keepdims, where=where)\n",
      "/mnt/c/Users/Maxwell Bruce/Desktop/honours/CurrentModels/myenv/lib/python3.10/site-packages/scipy/stats/_stats_py.py:4893: RuntimeWarning: invalid value encountered in subtract\n",
      "  xm = x - xmean\n",
      "/mnt/c/Users/Maxwell Bruce/Desktop/honours/CurrentModels/myenv/lib/python3.10/site-packages/scipy/stats/_stats_py.py:4893: RuntimeWarning: invalid value encountered in subtract\n",
      "  xm = x - xmean\n",
      "/mnt/c/Users/Maxwell Bruce/Desktop/honours/CurrentModels/myenv/lib/python3.10/site-packages/scipy/stats/_stats_py.py:4893: RuntimeWarning: invalid value encountered in subtract\n",
      "  xm = x - xmean\n",
      "/mnt/c/Users/Maxwell Bruce/Desktop/honours/CurrentModels/myenv/lib/python3.10/site-packages/scipy/stats/_stats_py.py:4893: RuntimeWarning: invalid value encountered in subtract\n",
      "  xm = x - xmean\n",
      "/mnt/c/Users/Maxwell Bruce/Desktop/honours/CurrentModels/myenv/lib/python3.10/site-packages/scipy/stats/_stats_py.py:4893: RuntimeWarning: invalid value encountered in subtract\n",
      "  xm = x - xmean\n",
      "/mnt/c/Users/Maxwell Bruce/Desktop/honours/CurrentModels/myenv/lib/python3.10/site-packages/scipy/stats/_stats_py.py:4893: RuntimeWarning: invalid value encountered in subtract\n",
      "  xm = x - xmean\n",
      "/mnt/c/Users/Maxwell Bruce/Desktop/honours/CurrentModels/myenv/lib/python3.10/site-packages/scipy/stats/_stats_py.py:4893: RuntimeWarning: invalid value encountered in subtract\n",
      "  xm = x - xmean\n",
      "/mnt/c/Users/Maxwell Bruce/Desktop/honours/CurrentModels/myenv/lib/python3.10/site-packages/scipy/stats/_stats_py.py:4893: RuntimeWarning: invalid value encountered in subtract\n",
      "  xm = x - xmean\n",
      "/mnt/c/Users/Maxwell Bruce/Desktop/honours/CurrentModels/myenv/lib/python3.10/site-packages/scipy/stats/_stats_py.py:4893: RuntimeWarning: invalid value encountered in subtract\n",
      "  xm = x - xmean\n",
      "/mnt/c/Users/Maxwell Bruce/Desktop/honours/CurrentModels/myenv/lib/python3.10/site-packages/scipy/stats/_stats_py.py:4893: RuntimeWarning: invalid value encountered in subtract\n",
      "  xm = x - xmean\n",
      "/mnt/c/Users/Maxwell Bruce/Desktop/honours/CurrentModels/myenv/lib/python3.10/site-packages/numpy/_core/_methods.py:136: RuntimeWarning: invalid value encountered in reduce\n",
      "  ret = umr_sum(arr, axis, dtype, out, keepdims, where=where)\n",
      "/mnt/c/Users/Maxwell Bruce/Desktop/honours/CurrentModels/myenv/lib/python3.10/site-packages/scipy/stats/_stats_py.py:4893: RuntimeWarning: invalid value encountered in subtract\n",
      "  xm = x - xmean\n",
      "/mnt/c/Users/Maxwell Bruce/Desktop/honours/CurrentModels/myenv/lib/python3.10/site-packages/scipy/stats/_stats_py.py:4893: RuntimeWarning: invalid value encountered in subtract\n",
      "  xm = x - xmean\n",
      "/mnt/c/Users/Maxwell Bruce/Desktop/honours/CurrentModels/myenv/lib/python3.10/site-packages/scipy/stats/_stats_py.py:4893: RuntimeWarning: invalid value encountered in subtract\n",
      "  xm = x - xmean\n",
      "/mnt/c/Users/Maxwell Bruce/Desktop/honours/CurrentModels/myenv/lib/python3.10/site-packages/scipy/stats/_stats_py.py:4893: RuntimeWarning: invalid value encountered in subtract\n",
      "  xm = x - xmean\n",
      "/mnt/c/Users/Maxwell Bruce/Desktop/honours/CurrentModels/myenv/lib/python3.10/site-packages/scipy/stats/_stats_py.py:4893: RuntimeWarning: invalid value encountered in subtract\n",
      "  xm = x - xmean\n",
      "/mnt/c/Users/Maxwell Bruce/Desktop/honours/CurrentModels/myenv/lib/python3.10/site-packages/scipy/stats/_stats_py.py:4893: RuntimeWarning: invalid value encountered in subtract\n",
      "  xm = x - xmean\n",
      "/mnt/c/Users/Maxwell Bruce/Desktop/honours/CurrentModels/myenv/lib/python3.10/site-packages/scipy/stats/_stats_py.py:4893: RuntimeWarning: invalid value encountered in subtract\n",
      "  xm = x - xmean\n",
      "/mnt/c/Users/Maxwell Bruce/Desktop/honours/CurrentModels/myenv/lib/python3.10/site-packages/scipy/stats/_stats_py.py:4893: RuntimeWarning: invalid value encountered in subtract\n",
      "  xm = x - xmean\n",
      "/mnt/c/Users/Maxwell Bruce/Desktop/honours/CurrentModels/myenv/lib/python3.10/site-packages/scipy/stats/_stats_py.py:4893: RuntimeWarning: invalid value encountered in subtract\n",
      "  xm = x - xmean\n",
      "/mnt/c/Users/Maxwell Bruce/Desktop/honours/CurrentModels/myenv/lib/python3.10/site-packages/scipy/stats/_stats_py.py:4893: RuntimeWarning: invalid value encountered in subtract\n",
      "  xm = x - xmean\n",
      "/mnt/c/Users/Maxwell Bruce/Desktop/honours/CurrentModels/myenv/lib/python3.10/site-packages/scipy/stats/_stats_py.py:4893: RuntimeWarning: invalid value encountered in subtract\n",
      "  xm = x - xmean\n",
      "/mnt/c/Users/Maxwell Bruce/Desktop/honours/CurrentModels/myenv/lib/python3.10/site-packages/scipy/stats/_stats_py.py:4893: RuntimeWarning: invalid value encountered in subtract\n",
      "  xm = x - xmean\n",
      "/mnt/c/Users/Maxwell Bruce/Desktop/honours/CurrentModels/myenv/lib/python3.10/site-packages/scipy/stats/_stats_py.py:4893: RuntimeWarning: invalid value encountered in subtract\n",
      "  xm = x - xmean\n",
      "/mnt/c/Users/Maxwell Bruce/Desktop/honours/CurrentModels/myenv/lib/python3.10/site-packages/scipy/stats/_stats_py.py:4893: RuntimeWarning: invalid value encountered in subtract\n",
      "  xm = x - xmean\n",
      "/mnt/c/Users/Maxwell Bruce/Desktop/honours/CurrentModels/myenv/lib/python3.10/site-packages/scipy/stats/_stats_py.py:4893: RuntimeWarning: invalid value encountered in subtract\n",
      "  xm = x - xmean\n",
      "/mnt/c/Users/Maxwell Bruce/Desktop/honours/CurrentModels/myenv/lib/python3.10/site-packages/scipy/stats/_stats_py.py:4893: RuntimeWarning: invalid value encountered in subtract\n",
      "  xm = x - xmean\n",
      "/mnt/c/Users/Maxwell Bruce/Desktop/honours/CurrentModels/myenv/lib/python3.10/site-packages/scipy/stats/_stats_py.py:4893: RuntimeWarning: invalid value encountered in subtract\n",
      "  xm = x - xmean\n",
      "/mnt/c/Users/Maxwell Bruce/Desktop/honours/CurrentModels/myenv/lib/python3.10/site-packages/scipy/stats/_stats_py.py:4893: RuntimeWarning: invalid value encountered in subtract\n",
      "  xm = x - xmean\n",
      "/mnt/c/Users/Maxwell Bruce/Desktop/honours/CurrentModels/myenv/lib/python3.10/site-packages/scipy/stats/_stats_py.py:4893: RuntimeWarning: invalid value encountered in subtract\n",
      "  xm = x - xmean\n",
      "/mnt/c/Users/Maxwell Bruce/Desktop/honours/CurrentModels/myenv/lib/python3.10/site-packages/numpy/_core/_methods.py:136: RuntimeWarning: invalid value encountered in reduce\n",
      "  ret = umr_sum(arr, axis, dtype, out, keepdims, where=where)\n",
      "/mnt/c/Users/Maxwell Bruce/Desktop/honours/CurrentModels/myenv/lib/python3.10/site-packages/scipy/stats/_stats_py.py:4893: RuntimeWarning: invalid value encountered in subtract\n",
      "  xm = x - xmean\n",
      "/mnt/c/Users/Maxwell Bruce/Desktop/honours/CurrentModels/myenv/lib/python3.10/site-packages/scipy/stats/_stats_py.py:4893: RuntimeWarning: invalid value encountered in subtract\n",
      "  xm = x - xmean\n",
      "/mnt/c/Users/Maxwell Bruce/Desktop/honours/CurrentModels/myenv/lib/python3.10/site-packages/scipy/stats/_stats_py.py:4893: RuntimeWarning: invalid value encountered in subtract\n",
      "  xm = x - xmean\n",
      "/mnt/c/Users/Maxwell Bruce/Desktop/honours/CurrentModels/myenv/lib/python3.10/site-packages/scipy/stats/_stats_py.py:4893: RuntimeWarning: invalid value encountered in subtract\n",
      "  xm = x - xmean\n",
      "/mnt/c/Users/Maxwell Bruce/Desktop/honours/CurrentModels/myenv/lib/python3.10/site-packages/scipy/stats/_stats_py.py:4893: RuntimeWarning: invalid value encountered in subtract\n",
      "  xm = x - xmean\n",
      "/mnt/c/Users/Maxwell Bruce/Desktop/honours/CurrentModels/myenv/lib/python3.10/site-packages/scipy/stats/_stats_py.py:4893: RuntimeWarning: invalid value encountered in subtract\n",
      "  xm = x - xmean\n",
      "/mnt/c/Users/Maxwell Bruce/Desktop/honours/CurrentModels/myenv/lib/python3.10/site-packages/scipy/stats/_stats_py.py:4893: RuntimeWarning: invalid value encountered in subtract\n",
      "  xm = x - xmean\n",
      "/mnt/c/Users/Maxwell Bruce/Desktop/honours/CurrentModels/myenv/lib/python3.10/site-packages/scipy/stats/_stats_py.py:4893: RuntimeWarning: invalid value encountered in subtract\n",
      "  xm = x - xmean\n",
      "/mnt/c/Users/Maxwell Bruce/Desktop/honours/CurrentModels/myenv/lib/python3.10/site-packages/scipy/stats/_stats_py.py:4893: RuntimeWarning: invalid value encountered in subtract\n",
      "  xm = x - xmean\n",
      "/mnt/c/Users/Maxwell Bruce/Desktop/honours/CurrentModels/myenv/lib/python3.10/site-packages/scipy/stats/_stats_py.py:4893: RuntimeWarning: invalid value encountered in subtract\n",
      "  xm = x - xmean\n",
      "/mnt/c/Users/Maxwell Bruce/Desktop/honours/CurrentModels/myenv/lib/python3.10/site-packages/scipy/stats/_stats_py.py:4893: RuntimeWarning: invalid value encountered in subtract\n",
      "  xm = x - xmean\n",
      "/mnt/c/Users/Maxwell Bruce/Desktop/honours/CurrentModels/myenv/lib/python3.10/site-packages/scipy/stats/_stats_py.py:4893: RuntimeWarning: invalid value encountered in subtract\n",
      "  xm = x - xmean\n",
      "/mnt/c/Users/Maxwell Bruce/Desktop/honours/CurrentModels/myenv/lib/python3.10/site-packages/scipy/stats/_stats_py.py:4893: RuntimeWarning: invalid value encountered in subtract\n",
      "  xm = x - xmean\n",
      "/mnt/c/Users/Maxwell Bruce/Desktop/honours/CurrentModels/myenv/lib/python3.10/site-packages/scipy/stats/_stats_py.py:4893: RuntimeWarning: invalid value encountered in subtract\n",
      "  xm = x - xmean\n",
      "/mnt/c/Users/Maxwell Bruce/Desktop/honours/CurrentModels/myenv/lib/python3.10/site-packages/scipy/stats/_stats_py.py:4893: RuntimeWarning: invalid value encountered in subtract\n",
      "  xm = x - xmean\n",
      "/mnt/c/Users/Maxwell Bruce/Desktop/honours/CurrentModels/myenv/lib/python3.10/site-packages/scipy/stats/_stats_py.py:4893: RuntimeWarning: invalid value encountered in subtract\n",
      "  xm = x - xmean\n",
      "/mnt/c/Users/Maxwell Bruce/Desktop/honours/CurrentModels/myenv/lib/python3.10/site-packages/scipy/stats/_stats_py.py:4893: RuntimeWarning: invalid value encountered in subtract\n",
      "  xm = x - xmean\n",
      "/mnt/c/Users/Maxwell Bruce/Desktop/honours/CurrentModels/myenv/lib/python3.10/site-packages/scipy/stats/_stats_py.py:4893: RuntimeWarning: invalid value encountered in subtract\n",
      "  xm = x - xmean\n",
      "/mnt/c/Users/Maxwell Bruce/Desktop/honours/CurrentModels/myenv/lib/python3.10/site-packages/scipy/stats/_stats_py.py:4893: RuntimeWarning: invalid value encountered in subtract\n",
      "  xm = x - xmean\n",
      "/mnt/c/Users/Maxwell Bruce/Desktop/honours/CurrentModels/myenv/lib/python3.10/site-packages/scipy/stats/_stats_py.py:4893: RuntimeWarning: invalid value encountered in subtract\n",
      "  xm = x - xmean\n",
      "/mnt/c/Users/Maxwell Bruce/Desktop/honours/CurrentModels/myenv/lib/python3.10/site-packages/scipy/stats/_stats_py.py:4893: RuntimeWarning: invalid value encountered in subtract\n",
      "  xm = x - xmean\n",
      "/mnt/c/Users/Maxwell Bruce/Desktop/honours/CurrentModels/myenv/lib/python3.10/site-packages/scipy/stats/_stats_py.py:4893: RuntimeWarning: invalid value encountered in subtract\n",
      "  xm = x - xmean\n",
      "/mnt/c/Users/Maxwell Bruce/Desktop/honours/CurrentModels/myenv/lib/python3.10/site-packages/scipy/stats/_stats_py.py:4893: RuntimeWarning: invalid value encountered in subtract\n",
      "  xm = x - xmean\n",
      "/mnt/c/Users/Maxwell Bruce/Desktop/honours/CurrentModels/myenv/lib/python3.10/site-packages/scipy/stats/_stats_py.py:4893: RuntimeWarning: invalid value encountered in subtract\n",
      "  xm = x - xmean\n",
      "/mnt/c/Users/Maxwell Bruce/Desktop/honours/CurrentModels/myenv/lib/python3.10/site-packages/scipy/stats/_stats_py.py:4893: RuntimeWarning: invalid value encountered in subtract\n",
      "  xm = x - xmean\n",
      "/mnt/c/Users/Maxwell Bruce/Desktop/honours/CurrentModels/myenv/lib/python3.10/site-packages/scipy/stats/_stats_py.py:4893: RuntimeWarning: invalid value encountered in subtract\n",
      "  xm = x - xmean\n",
      "/mnt/c/Users/Maxwell Bruce/Desktop/honours/CurrentModels/myenv/lib/python3.10/site-packages/scipy/stats/_stats_py.py:4893: RuntimeWarning: invalid value encountered in subtract\n",
      "  xm = x - xmean\n",
      "/mnt/c/Users/Maxwell Bruce/Desktop/honours/CurrentModels/myenv/lib/python3.10/site-packages/scipy/stats/_stats_py.py:4893: RuntimeWarning: invalid value encountered in subtract\n",
      "  xm = x - xmean\n",
      "/mnt/c/Users/Maxwell Bruce/Desktop/honours/CurrentModels/myenv/lib/python3.10/site-packages/scipy/stats/_stats_py.py:4893: RuntimeWarning: invalid value encountered in subtract\n",
      "  xm = x - xmean\n",
      "/mnt/c/Users/Maxwell Bruce/Desktop/honours/CurrentModels/myenv/lib/python3.10/site-packages/scipy/stats/_stats_py.py:4893: RuntimeWarning: invalid value encountered in subtract\n",
      "  xm = x - xmean\n",
      "/mnt/c/Users/Maxwell Bruce/Desktop/honours/CurrentModels/myenv/lib/python3.10/site-packages/scipy/stats/_stats_py.py:4893: RuntimeWarning: invalid value encountered in subtract\n",
      "  xm = x - xmean\n",
      "/mnt/c/Users/Maxwell Bruce/Desktop/honours/CurrentModels/myenv/lib/python3.10/site-packages/scipy/stats/_stats_py.py:4893: RuntimeWarning: invalid value encountered in subtract\n",
      "  xm = x - xmean\n",
      "/mnt/c/Users/Maxwell Bruce/Desktop/honours/CurrentModels/myenv/lib/python3.10/site-packages/scipy/stats/_stats_py.py:4893: RuntimeWarning: invalid value encountered in subtract\n",
      "  xm = x - xmean\n",
      "/mnt/c/Users/Maxwell Bruce/Desktop/honours/CurrentModels/myenv/lib/python3.10/site-packages/numpy/_core/_methods.py:136: RuntimeWarning: invalid value encountered in reduce\n",
      "  ret = umr_sum(arr, axis, dtype, out, keepdims, where=where)\n",
      "/mnt/c/Users/Maxwell Bruce/Desktop/honours/CurrentModels/myenv/lib/python3.10/site-packages/scipy/stats/_stats_py.py:4893: RuntimeWarning: invalid value encountered in subtract\n",
      "  xm = x - xmean\n",
      "/mnt/c/Users/Maxwell Bruce/Desktop/honours/CurrentModels/myenv/lib/python3.10/site-packages/scipy/stats/_stats_py.py:4893: RuntimeWarning: invalid value encountered in subtract\n",
      "  xm = x - xmean\n",
      "/mnt/c/Users/Maxwell Bruce/Desktop/honours/CurrentModels/myenv/lib/python3.10/site-packages/scipy/stats/_stats_py.py:4893: RuntimeWarning: invalid value encountered in subtract\n",
      "  xm = x - xmean\n",
      "/mnt/c/Users/Maxwell Bruce/Desktop/honours/CurrentModels/myenv/lib/python3.10/site-packages/scipy/stats/_stats_py.py:4893: RuntimeWarning: invalid value encountered in subtract\n",
      "  xm = x - xmean\n",
      "/mnt/c/Users/Maxwell Bruce/Desktop/honours/CurrentModels/myenv/lib/python3.10/site-packages/scipy/stats/_stats_py.py:4893: RuntimeWarning: invalid value encountered in subtract\n",
      "  xm = x - xmean\n",
      "/mnt/c/Users/Maxwell Bruce/Desktop/honours/CurrentModels/myenv/lib/python3.10/site-packages/scipy/stats/_stats_py.py:4893: RuntimeWarning: invalid value encountered in subtract\n",
      "  xm = x - xmean\n",
      "/mnt/c/Users/Maxwell Bruce/Desktop/honours/CurrentModels/myenv/lib/python3.10/site-packages/scipy/stats/_stats_py.py:4893: RuntimeWarning: invalid value encountered in subtract\n",
      "  xm = x - xmean\n",
      "/mnt/c/Users/Maxwell Bruce/Desktop/honours/CurrentModels/myenv/lib/python3.10/site-packages/scipy/stats/_stats_py.py:4893: RuntimeWarning: invalid value encountered in subtract\n",
      "  xm = x - xmean\n",
      "/mnt/c/Users/Maxwell Bruce/Desktop/honours/CurrentModels/myenv/lib/python3.10/site-packages/scipy/stats/_stats_py.py:4893: RuntimeWarning: invalid value encountered in subtract\n",
      "  xm = x - xmean\n",
      "/mnt/c/Users/Maxwell Bruce/Desktop/honours/CurrentModels/myenv/lib/python3.10/site-packages/scipy/stats/_stats_py.py:4893: RuntimeWarning: invalid value encountered in subtract\n",
      "  xm = x - xmean\n",
      "/mnt/c/Users/Maxwell Bruce/Desktop/honours/CurrentModels/myenv/lib/python3.10/site-packages/scipy/stats/_stats_py.py:4893: RuntimeWarning: invalid value encountered in subtract\n",
      "  xm = x - xmean\n",
      "/mnt/c/Users/Maxwell Bruce/Desktop/honours/CurrentModels/myenv/lib/python3.10/site-packages/scipy/stats/_stats_py.py:4893: RuntimeWarning: invalid value encountered in subtract\n",
      "  xm = x - xmean\n",
      "/mnt/c/Users/Maxwell Bruce/Desktop/honours/CurrentModels/myenv/lib/python3.10/site-packages/scipy/stats/_stats_py.py:4893: RuntimeWarning: invalid value encountered in subtract\n",
      "  xm = x - xmean\n",
      "/mnt/c/Users/Maxwell Bruce/Desktop/honours/CurrentModels/myenv/lib/python3.10/site-packages/scipy/stats/_stats_py.py:4893: RuntimeWarning: invalid value encountered in subtract\n",
      "  xm = x - xmean\n",
      "/mnt/c/Users/Maxwell Bruce/Desktop/honours/CurrentModels/myenv/lib/python3.10/site-packages/numpy/_core/_methods.py:136: RuntimeWarning: invalid value encountered in reduce\n",
      "  ret = umr_sum(arr, axis, dtype, out, keepdims, where=where)\n",
      "/mnt/c/Users/Maxwell Bruce/Desktop/honours/CurrentModels/myenv/lib/python3.10/site-packages/scipy/stats/_stats_py.py:4893: RuntimeWarning: invalid value encountered in subtract\n",
      "  xm = x - xmean\n",
      "/mnt/c/Users/Maxwell Bruce/Desktop/honours/CurrentModels/myenv/lib/python3.10/site-packages/scipy/stats/_stats_py.py:4893: RuntimeWarning: invalid value encountered in subtract\n",
      "  xm = x - xmean\n",
      "/mnt/c/Users/Maxwell Bruce/Desktop/honours/CurrentModels/myenv/lib/python3.10/site-packages/scipy/stats/_stats_py.py:4893: RuntimeWarning: invalid value encountered in subtract\n",
      "  xm = x - xmean\n",
      "/mnt/c/Users/Maxwell Bruce/Desktop/honours/CurrentModels/myenv/lib/python3.10/site-packages/scipy/stats/_stats_py.py:4893: RuntimeWarning: invalid value encountered in subtract\n",
      "  xm = x - xmean\n",
      "/mnt/c/Users/Maxwell Bruce/Desktop/honours/CurrentModels/myenv/lib/python3.10/site-packages/scipy/stats/_stats_py.py:4893: RuntimeWarning: invalid value encountered in subtract\n",
      "  xm = x - xmean\n",
      "/mnt/c/Users/Maxwell Bruce/Desktop/honours/CurrentModels/myenv/lib/python3.10/site-packages/scipy/stats/_stats_py.py:4893: RuntimeWarning: invalid value encountered in subtract\n",
      "  xm = x - xmean\n",
      "/mnt/c/Users/Maxwell Bruce/Desktop/honours/CurrentModels/myenv/lib/python3.10/site-packages/scipy/stats/_stats_py.py:4893: RuntimeWarning: invalid value encountered in subtract\n",
      "  xm = x - xmean\n",
      "/mnt/c/Users/Maxwell Bruce/Desktop/honours/CurrentModels/myenv/lib/python3.10/site-packages/scipy/stats/_stats_py.py:4893: RuntimeWarning: invalid value encountered in subtract\n",
      "  xm = x - xmean\n",
      "/mnt/c/Users/Maxwell Bruce/Desktop/honours/CurrentModels/myenv/lib/python3.10/site-packages/scipy/stats/_stats_py.py:4893: RuntimeWarning: invalid value encountered in subtract\n",
      "  xm = x - xmean\n",
      "/mnt/c/Users/Maxwell Bruce/Desktop/honours/CurrentModels/myenv/lib/python3.10/site-packages/scipy/stats/_stats_py.py:4893: RuntimeWarning: invalid value encountered in subtract\n",
      "  xm = x - xmean\n",
      "/mnt/c/Users/Maxwell Bruce/Desktop/honours/CurrentModels/myenv/lib/python3.10/site-packages/scipy/stats/_stats_py.py:4893: RuntimeWarning: invalid value encountered in subtract\n",
      "  xm = x - xmean\n",
      "/mnt/c/Users/Maxwell Bruce/Desktop/honours/CurrentModels/myenv/lib/python3.10/site-packages/scipy/stats/_stats_py.py:4893: RuntimeWarning: invalid value encountered in subtract\n",
      "  xm = x - xmean\n",
      "/mnt/c/Users/Maxwell Bruce/Desktop/honours/CurrentModels/myenv/lib/python3.10/site-packages/scipy/stats/_stats_py.py:4893: RuntimeWarning: invalid value encountered in subtract\n",
      "  xm = x - xmean\n",
      "/mnt/c/Users/Maxwell Bruce/Desktop/honours/CurrentModels/myenv/lib/python3.10/site-packages/scipy/stats/_stats_py.py:4893: RuntimeWarning: invalid value encountered in subtract\n",
      "  xm = x - xmean\n",
      "/mnt/c/Users/Maxwell Bruce/Desktop/honours/CurrentModels/myenv/lib/python3.10/site-packages/scipy/stats/_stats_py.py:4893: RuntimeWarning: invalid value encountered in subtract\n",
      "  xm = x - xmean\n",
      "/mnt/c/Users/Maxwell Bruce/Desktop/honours/CurrentModels/myenv/lib/python3.10/site-packages/scipy/stats/_stats_py.py:4893: RuntimeWarning: invalid value encountered in subtract\n",
      "  xm = x - xmean\n",
      "/mnt/c/Users/Maxwell Bruce/Desktop/honours/CurrentModels/myenv/lib/python3.10/site-packages/scipy/stats/_stats_py.py:4893: RuntimeWarning: invalid value encountered in subtract\n",
      "  xm = x - xmean\n",
      "/mnt/c/Users/Maxwell Bruce/Desktop/honours/CurrentModels/myenv/lib/python3.10/site-packages/scipy/stats/_stats_py.py:4893: RuntimeWarning: invalid value encountered in subtract\n",
      "  xm = x - xmean\n",
      "/mnt/c/Users/Maxwell Bruce/Desktop/honours/CurrentModels/myenv/lib/python3.10/site-packages/scipy/stats/_stats_py.py:4893: RuntimeWarning: invalid value encountered in subtract\n",
      "  xm = x - xmean\n",
      "/mnt/c/Users/Maxwell Bruce/Desktop/honours/CurrentModels/myenv/lib/python3.10/site-packages/scipy/stats/_stats_py.py:4893: RuntimeWarning: invalid value encountered in subtract\n",
      "  xm = x - xmean\n",
      "/mnt/c/Users/Maxwell Bruce/Desktop/honours/CurrentModels/myenv/lib/python3.10/site-packages/scipy/stats/_stats_py.py:4893: RuntimeWarning: invalid value encountered in subtract\n",
      "  xm = x - xmean\n",
      "/mnt/c/Users/Maxwell Bruce/Desktop/honours/CurrentModels/myenv/lib/python3.10/site-packages/scipy/stats/_stats_py.py:4893: RuntimeWarning: invalid value encountered in subtract\n",
      "  xm = x - xmean\n",
      "/mnt/c/Users/Maxwell Bruce/Desktop/honours/CurrentModels/myenv/lib/python3.10/site-packages/numpy/_core/_methods.py:136: RuntimeWarning: invalid value encountered in reduce\n",
      "  ret = umr_sum(arr, axis, dtype, out, keepdims, where=where)\n",
      "/mnt/c/Users/Maxwell Bruce/Desktop/honours/CurrentModels/myenv/lib/python3.10/site-packages/scipy/stats/_stats_py.py:4893: RuntimeWarning: invalid value encountered in subtract\n",
      "  xm = x - xmean\n",
      "/mnt/c/Users/Maxwell Bruce/Desktop/honours/CurrentModels/myenv/lib/python3.10/site-packages/scipy/stats/_stats_py.py:4893: RuntimeWarning: invalid value encountered in subtract\n",
      "  xm = x - xmean\n",
      "/mnt/c/Users/Maxwell Bruce/Desktop/honours/CurrentModels/myenv/lib/python3.10/site-packages/scipy/stats/_stats_py.py:4893: RuntimeWarning: invalid value encountered in subtract\n",
      "  xm = x - xmean\n",
      "/mnt/c/Users/Maxwell Bruce/Desktop/honours/CurrentModels/myenv/lib/python3.10/site-packages/scipy/stats/_stats_py.py:4893: RuntimeWarning: invalid value encountered in subtract\n",
      "  xm = x - xmean\n",
      "/mnt/c/Users/Maxwell Bruce/Desktop/honours/CurrentModels/myenv/lib/python3.10/site-packages/scipy/stats/_stats_py.py:4893: RuntimeWarning: invalid value encountered in subtract\n",
      "  xm = x - xmean\n",
      "/mnt/c/Users/Maxwell Bruce/Desktop/honours/CurrentModels/myenv/lib/python3.10/site-packages/scipy/stats/_stats_py.py:4893: RuntimeWarning: invalid value encountered in subtract\n",
      "  xm = x - xmean\n",
      "/mnt/c/Users/Maxwell Bruce/Desktop/honours/CurrentModels/myenv/lib/python3.10/site-packages/scipy/stats/_stats_py.py:4893: RuntimeWarning: invalid value encountered in subtract\n",
      "  xm = x - xmean\n",
      "/mnt/c/Users/Maxwell Bruce/Desktop/honours/CurrentModels/myenv/lib/python3.10/site-packages/scipy/stats/_stats_py.py:4893: RuntimeWarning: invalid value encountered in subtract\n",
      "  xm = x - xmean\n",
      "/mnt/c/Users/Maxwell Bruce/Desktop/honours/CurrentModels/myenv/lib/python3.10/site-packages/scipy/stats/_stats_py.py:4893: RuntimeWarning: invalid value encountered in subtract\n",
      "  xm = x - xmean\n",
      "/mnt/c/Users/Maxwell Bruce/Desktop/honours/CurrentModels/myenv/lib/python3.10/site-packages/scipy/stats/_stats_py.py:4893: RuntimeWarning: invalid value encountered in subtract\n",
      "  xm = x - xmean\n",
      "/mnt/c/Users/Maxwell Bruce/Desktop/honours/CurrentModels/myenv/lib/python3.10/site-packages/scipy/stats/_stats_py.py:4893: RuntimeWarning: invalid value encountered in subtract\n",
      "  xm = x - xmean\n",
      "/mnt/c/Users/Maxwell Bruce/Desktop/honours/CurrentModels/myenv/lib/python3.10/site-packages/scipy/stats/_stats_py.py:4893: RuntimeWarning: invalid value encountered in subtract\n",
      "  xm = x - xmean\n",
      "/mnt/c/Users/Maxwell Bruce/Desktop/honours/CurrentModels/myenv/lib/python3.10/site-packages/scipy/stats/_stats_py.py:4893: RuntimeWarning: invalid value encountered in subtract\n",
      "  xm = x - xmean\n",
      "/mnt/c/Users/Maxwell Bruce/Desktop/honours/CurrentModels/myenv/lib/python3.10/site-packages/scipy/stats/_stats_py.py:4893: RuntimeWarning: invalid value encountered in subtract\n",
      "  xm = x - xmean\n",
      "/mnt/c/Users/Maxwell Bruce/Desktop/honours/CurrentModels/myenv/lib/python3.10/site-packages/scipy/stats/_stats_py.py:4893: RuntimeWarning: invalid value encountered in subtract\n",
      "  xm = x - xmean\n",
      "/mnt/c/Users/Maxwell Bruce/Desktop/honours/CurrentModels/myenv/lib/python3.10/site-packages/scipy/stats/_stats_py.py:4893: RuntimeWarning: invalid value encountered in subtract\n",
      "  xm = x - xmean\n",
      "/mnt/c/Users/Maxwell Bruce/Desktop/honours/CurrentModels/myenv/lib/python3.10/site-packages/scipy/stats/_stats_py.py:4893: RuntimeWarning: invalid value encountered in subtract\n",
      "  xm = x - xmean\n",
      "/mnt/c/Users/Maxwell Bruce/Desktop/honours/CurrentModels/myenv/lib/python3.10/site-packages/scipy/stats/_stats_py.py:4893: RuntimeWarning: invalid value encountered in subtract\n",
      "  xm = x - xmean\n",
      "/mnt/c/Users/Maxwell Bruce/Desktop/honours/CurrentModels/myenv/lib/python3.10/site-packages/scipy/stats/_stats_py.py:4893: RuntimeWarning: invalid value encountered in subtract\n",
      "  xm = x - xmean\n",
      "/mnt/c/Users/Maxwell Bruce/Desktop/honours/CurrentModels/myenv/lib/python3.10/site-packages/scipy/stats/_stats_py.py:4893: RuntimeWarning: invalid value encountered in subtract\n",
      "  xm = x - xmean\n",
      "/mnt/c/Users/Maxwell Bruce/Desktop/honours/CurrentModels/myenv/lib/python3.10/site-packages/scipy/stats/_stats_py.py:4893: RuntimeWarning: invalid value encountered in subtract\n",
      "  xm = x - xmean\n",
      "/mnt/c/Users/Maxwell Bruce/Desktop/honours/CurrentModels/myenv/lib/python3.10/site-packages/scipy/stats/_stats_py.py:4893: RuntimeWarning: invalid value encountered in subtract\n",
      "  xm = x - xmean\n",
      "/mnt/c/Users/Maxwell Bruce/Desktop/honours/CurrentModels/myenv/lib/python3.10/site-packages/scipy/stats/_stats_py.py:4893: RuntimeWarning: invalid value encountered in subtract\n",
      "  xm = x - xmean\n",
      "/mnt/c/Users/Maxwell Bruce/Desktop/honours/CurrentModels/myenv/lib/python3.10/site-packages/numpy/_core/_methods.py:136: RuntimeWarning: invalid value encountered in reduce\n",
      "  ret = umr_sum(arr, axis, dtype, out, keepdims, where=where)\n",
      "/mnt/c/Users/Maxwell Bruce/Desktop/honours/CurrentModels/myenv/lib/python3.10/site-packages/scipy/stats/_stats_py.py:4893: RuntimeWarning: invalid value encountered in subtract\n",
      "  xm = x - xmean\n",
      "/mnt/c/Users/Maxwell Bruce/Desktop/honours/CurrentModels/myenv/lib/python3.10/site-packages/scipy/stats/_stats_py.py:4893: RuntimeWarning: invalid value encountered in subtract\n",
      "  xm = x - xmean\n",
      "/mnt/c/Users/Maxwell Bruce/Desktop/honours/CurrentModels/myenv/lib/python3.10/site-packages/scipy/stats/_stats_py.py:4893: RuntimeWarning: invalid value encountered in subtract\n",
      "  xm = x - xmean\n",
      "/mnt/c/Users/Maxwell Bruce/Desktop/honours/CurrentModels/myenv/lib/python3.10/site-packages/scipy/stats/_stats_py.py:4893: RuntimeWarning: invalid value encountered in subtract\n",
      "  xm = x - xmean\n",
      "/mnt/c/Users/Maxwell Bruce/Desktop/honours/CurrentModels/myenv/lib/python3.10/site-packages/scipy/stats/_stats_py.py:4893: RuntimeWarning: invalid value encountered in subtract\n",
      "  xm = x - xmean\n",
      "/mnt/c/Users/Maxwell Bruce/Desktop/honours/CurrentModels/myenv/lib/python3.10/site-packages/scipy/stats/_stats_py.py:4893: RuntimeWarning: invalid value encountered in subtract\n",
      "  xm = x - xmean\n",
      "/mnt/c/Users/Maxwell Bruce/Desktop/honours/CurrentModels/myenv/lib/python3.10/site-packages/scipy/stats/_stats_py.py:4893: RuntimeWarning: invalid value encountered in subtract\n",
      "  xm = x - xmean\n",
      "/mnt/c/Users/Maxwell Bruce/Desktop/honours/CurrentModels/myenv/lib/python3.10/site-packages/scipy/stats/_stats_py.py:4893: RuntimeWarning: invalid value encountered in subtract\n",
      "  xm = x - xmean\n",
      "/mnt/c/Users/Maxwell Bruce/Desktop/honours/CurrentModels/myenv/lib/python3.10/site-packages/scipy/stats/_stats_py.py:4893: RuntimeWarning: invalid value encountered in subtract\n",
      "  xm = x - xmean\n",
      "/mnt/c/Users/Maxwell Bruce/Desktop/honours/CurrentModels/myenv/lib/python3.10/site-packages/scipy/stats/_stats_py.py:4893: RuntimeWarning: invalid value encountered in subtract\n",
      "  xm = x - xmean\n",
      "/mnt/c/Users/Maxwell Bruce/Desktop/honours/CurrentModels/myenv/lib/python3.10/site-packages/scipy/stats/_stats_py.py:4893: RuntimeWarning: invalid value encountered in subtract\n",
      "  xm = x - xmean\n",
      "/mnt/c/Users/Maxwell Bruce/Desktop/honours/CurrentModels/myenv/lib/python3.10/site-packages/scipy/stats/_stats_py.py:4893: RuntimeWarning: invalid value encountered in subtract\n",
      "  xm = x - xmean\n",
      "/mnt/c/Users/Maxwell Bruce/Desktop/honours/CurrentModels/myenv/lib/python3.10/site-packages/scipy/stats/_stats_py.py:4893: RuntimeWarning: invalid value encountered in subtract\n",
      "  xm = x - xmean\n",
      "/mnt/c/Users/Maxwell Bruce/Desktop/honours/CurrentModels/myenv/lib/python3.10/site-packages/numpy/_core/_methods.py:136: RuntimeWarning: invalid value encountered in reduce\n",
      "  ret = umr_sum(arr, axis, dtype, out, keepdims, where=where)\n",
      "/mnt/c/Users/Maxwell Bruce/Desktop/honours/CurrentModels/myenv/lib/python3.10/site-packages/scipy/stats/_stats_py.py:4893: RuntimeWarning: invalid value encountered in subtract\n",
      "  xm = x - xmean\n",
      "/mnt/c/Users/Maxwell Bruce/Desktop/honours/CurrentModels/myenv/lib/python3.10/site-packages/scipy/stats/_stats_py.py:4893: RuntimeWarning: invalid value encountered in subtract\n",
      "  xm = x - xmean\n",
      "/mnt/c/Users/Maxwell Bruce/Desktop/honours/CurrentModels/myenv/lib/python3.10/site-packages/scipy/stats/_stats_py.py:4893: RuntimeWarning: invalid value encountered in subtract\n",
      "  xm = x - xmean\n",
      "/mnt/c/Users/Maxwell Bruce/Desktop/honours/CurrentModels/myenv/lib/python3.10/site-packages/scipy/stats/_stats_py.py:4893: RuntimeWarning: invalid value encountered in subtract\n",
      "  xm = x - xmean\n",
      "/mnt/c/Users/Maxwell Bruce/Desktop/honours/CurrentModels/myenv/lib/python3.10/site-packages/scipy/stats/_stats_py.py:4893: RuntimeWarning: invalid value encountered in subtract\n",
      "  xm = x - xmean\n",
      "/mnt/c/Users/Maxwell Bruce/Desktop/honours/CurrentModels/myenv/lib/python3.10/site-packages/scipy/stats/_stats_py.py:4893: RuntimeWarning: invalid value encountered in subtract\n",
      "  xm = x - xmean\n",
      "/mnt/c/Users/Maxwell Bruce/Desktop/honours/CurrentModels/myenv/lib/python3.10/site-packages/scipy/stats/_stats_py.py:4893: RuntimeWarning: invalid value encountered in subtract\n",
      "  xm = x - xmean\n",
      "/mnt/c/Users/Maxwell Bruce/Desktop/honours/CurrentModels/myenv/lib/python3.10/site-packages/scipy/stats/_stats_py.py:4893: RuntimeWarning: invalid value encountered in subtract\n",
      "  xm = x - xmean\n",
      "/mnt/c/Users/Maxwell Bruce/Desktop/honours/CurrentModels/myenv/lib/python3.10/site-packages/scipy/stats/_stats_py.py:4893: RuntimeWarning: invalid value encountered in subtract\n",
      "  xm = x - xmean\n",
      "/mnt/c/Users/Maxwell Bruce/Desktop/honours/CurrentModels/myenv/lib/python3.10/site-packages/scipy/stats/_stats_py.py:4893: RuntimeWarning: invalid value encountered in subtract\n",
      "  xm = x - xmean\n",
      "/mnt/c/Users/Maxwell Bruce/Desktop/honours/CurrentModels/myenv/lib/python3.10/site-packages/scipy/stats/_stats_py.py:4893: RuntimeWarning: invalid value encountered in subtract\n",
      "  xm = x - xmean\n",
      "/mnt/c/Users/Maxwell Bruce/Desktop/honours/CurrentModels/myenv/lib/python3.10/site-packages/scipy/stats/_stats_py.py:4893: RuntimeWarning: invalid value encountered in subtract\n",
      "  xm = x - xmean\n",
      "/mnt/c/Users/Maxwell Bruce/Desktop/honours/CurrentModels/myenv/lib/python3.10/site-packages/scipy/stats/_stats_py.py:4893: RuntimeWarning: invalid value encountered in subtract\n",
      "  xm = x - xmean\n",
      "/mnt/c/Users/Maxwell Bruce/Desktop/honours/CurrentModels/myenv/lib/python3.10/site-packages/scipy/stats/_stats_py.py:4893: RuntimeWarning: invalid value encountered in subtract\n",
      "  xm = x - xmean\n",
      "/mnt/c/Users/Maxwell Bruce/Desktop/honours/CurrentModels/myenv/lib/python3.10/site-packages/scipy/stats/_stats_py.py:4893: RuntimeWarning: invalid value encountered in subtract\n",
      "  xm = x - xmean\n",
      "/mnt/c/Users/Maxwell Bruce/Desktop/honours/CurrentModels/myenv/lib/python3.10/site-packages/scipy/stats/_stats_py.py:4893: RuntimeWarning: invalid value encountered in subtract\n",
      "  xm = x - xmean\n",
      "/mnt/c/Users/Maxwell Bruce/Desktop/honours/CurrentModels/myenv/lib/python3.10/site-packages/scipy/stats/_stats_py.py:4893: RuntimeWarning: invalid value encountered in subtract\n",
      "  xm = x - xmean\n",
      "/mnt/c/Users/Maxwell Bruce/Desktop/honours/CurrentModels/myenv/lib/python3.10/site-packages/scipy/stats/_stats_py.py:4893: RuntimeWarning: invalid value encountered in subtract\n",
      "  xm = x - xmean\n",
      "/mnt/c/Users/Maxwell Bruce/Desktop/honours/CurrentModels/myenv/lib/python3.10/site-packages/scipy/stats/_stats_py.py:4893: RuntimeWarning: invalid value encountered in subtract\n",
      "  xm = x - xmean\n",
      "/mnt/c/Users/Maxwell Bruce/Desktop/honours/CurrentModels/myenv/lib/python3.10/site-packages/scipy/stats/_stats_py.py:4893: RuntimeWarning: invalid value encountered in subtract\n",
      "  xm = x - xmean\n",
      "/mnt/c/Users/Maxwell Bruce/Desktop/honours/CurrentModels/myenv/lib/python3.10/site-packages/scipy/stats/_stats_py.py:4893: RuntimeWarning: invalid value encountered in subtract\n",
      "  xm = x - xmean\n",
      "/mnt/c/Users/Maxwell Bruce/Desktop/honours/CurrentModels/myenv/lib/python3.10/site-packages/scipy/stats/_stats_py.py:4893: RuntimeWarning: invalid value encountered in subtract\n",
      "  xm = x - xmean\n",
      "/mnt/c/Users/Maxwell Bruce/Desktop/honours/CurrentModels/myenv/lib/python3.10/site-packages/scipy/stats/_stats_py.py:4893: RuntimeWarning: invalid value encountered in subtract\n",
      "  xm = x - xmean\n",
      "/mnt/c/Users/Maxwell Bruce/Desktop/honours/CurrentModels/myenv/lib/python3.10/site-packages/scipy/stats/_stats_py.py:4893: RuntimeWarning: invalid value encountered in subtract\n",
      "  xm = x - xmean\n",
      "/mnt/c/Users/Maxwell Bruce/Desktop/honours/CurrentModels/myenv/lib/python3.10/site-packages/scipy/stats/_stats_py.py:4893: RuntimeWarning: invalid value encountered in subtract\n",
      "  xm = x - xmean\n",
      "/mnt/c/Users/Maxwell Bruce/Desktop/honours/CurrentModels/myenv/lib/python3.10/site-packages/scipy/stats/_stats_py.py:4893: RuntimeWarning: invalid value encountered in subtract\n",
      "  xm = x - xmean\n",
      "/mnt/c/Users/Maxwell Bruce/Desktop/honours/CurrentModels/myenv/lib/python3.10/site-packages/scipy/stats/_stats_py.py:4893: RuntimeWarning: invalid value encountered in subtract\n",
      "  xm = x - xmean\n",
      "/mnt/c/Users/Maxwell Bruce/Desktop/honours/CurrentModels/myenv/lib/python3.10/site-packages/scipy/stats/_stats_py.py:4893: RuntimeWarning: invalid value encountered in subtract\n",
      "  xm = x - xmean\n",
      "/mnt/c/Users/Maxwell Bruce/Desktop/honours/CurrentModels/myenv/lib/python3.10/site-packages/scipy/stats/_stats_py.py:4893: RuntimeWarning: invalid value encountered in subtract\n",
      "  xm = x - xmean\n",
      "/mnt/c/Users/Maxwell Bruce/Desktop/honours/CurrentModels/myenv/lib/python3.10/site-packages/scipy/stats/_stats_py.py:4893: RuntimeWarning: invalid value encountered in subtract\n",
      "  xm = x - xmean\n",
      "/mnt/c/Users/Maxwell Bruce/Desktop/honours/CurrentModels/myenv/lib/python3.10/site-packages/scipy/stats/_stats_py.py:4893: RuntimeWarning: invalid value encountered in subtract\n",
      "  xm = x - xmean\n",
      "/mnt/c/Users/Maxwell Bruce/Desktop/honours/CurrentModels/myenv/lib/python3.10/site-packages/scipy/stats/_stats_py.py:4893: RuntimeWarning: invalid value encountered in subtract\n",
      "  xm = x - xmean\n",
      "/mnt/c/Users/Maxwell Bruce/Desktop/honours/CurrentModels/myenv/lib/python3.10/site-packages/scipy/stats/_stats_py.py:4893: RuntimeWarning: invalid value encountered in subtract\n",
      "  xm = x - xmean\n",
      "/mnt/c/Users/Maxwell Bruce/Desktop/honours/CurrentModels/myenv/lib/python3.10/site-packages/scipy/stats/_stats_py.py:4893: RuntimeWarning: invalid value encountered in subtract\n",
      "  xm = x - xmean\n",
      "/mnt/c/Users/Maxwell Bruce/Desktop/honours/CurrentModels/myenv/lib/python3.10/site-packages/scipy/stats/_stats_py.py:4893: RuntimeWarning: invalid value encountered in subtract\n",
      "  xm = x - xmean\n",
      "/mnt/c/Users/Maxwell Bruce/Desktop/honours/CurrentModels/myenv/lib/python3.10/site-packages/scipy/stats/_stats_py.py:4893: RuntimeWarning: invalid value encountered in subtract\n",
      "  xm = x - xmean\n",
      "/mnt/c/Users/Maxwell Bruce/Desktop/honours/CurrentModels/myenv/lib/python3.10/site-packages/scipy/stats/_stats_py.py:4893: RuntimeWarning: invalid value encountered in subtract\n",
      "  xm = x - xmean\n",
      "/mnt/c/Users/Maxwell Bruce/Desktop/honours/CurrentModels/myenv/lib/python3.10/site-packages/scipy/stats/_stats_py.py:4893: RuntimeWarning: invalid value encountered in subtract\n",
      "  xm = x - xmean\n",
      "/mnt/c/Users/Maxwell Bruce/Desktop/honours/CurrentModels/myenv/lib/python3.10/site-packages/scipy/stats/_stats_py.py:4893: RuntimeWarning: invalid value encountered in subtract\n",
      "  xm = x - xmean\n",
      "/mnt/c/Users/Maxwell Bruce/Desktop/honours/CurrentModels/myenv/lib/python3.10/site-packages/scipy/stats/_stats_py.py:4893: RuntimeWarning: invalid value encountered in subtract\n",
      "  xm = x - xmean\n",
      "/mnt/c/Users/Maxwell Bruce/Desktop/honours/CurrentModels/myenv/lib/python3.10/site-packages/numpy/_core/_methods.py:136: RuntimeWarning: invalid value encountered in reduce\n",
      "  ret = umr_sum(arr, axis, dtype, out, keepdims, where=where)\n",
      "/mnt/c/Users/Maxwell Bruce/Desktop/honours/CurrentModels/myenv/lib/python3.10/site-packages/scipy/stats/_stats_py.py:4893: RuntimeWarning: invalid value encountered in subtract\n",
      "  xm = x - xmean\n",
      "/mnt/c/Users/Maxwell Bruce/Desktop/honours/CurrentModels/myenv/lib/python3.10/site-packages/scipy/stats/_stats_py.py:4893: RuntimeWarning: invalid value encountered in subtract\n",
      "  xm = x - xmean\n",
      "/mnt/c/Users/Maxwell Bruce/Desktop/honours/CurrentModels/myenv/lib/python3.10/site-packages/scipy/stats/_stats_py.py:4893: RuntimeWarning: invalid value encountered in subtract\n",
      "  xm = x - xmean\n",
      "/mnt/c/Users/Maxwell Bruce/Desktop/honours/CurrentModels/myenv/lib/python3.10/site-packages/scipy/stats/_stats_py.py:4893: RuntimeWarning: invalid value encountered in subtract\n",
      "  xm = x - xmean\n",
      "/mnt/c/Users/Maxwell Bruce/Desktop/honours/CurrentModels/myenv/lib/python3.10/site-packages/scipy/stats/_stats_py.py:4893: RuntimeWarning: invalid value encountered in subtract\n",
      "  xm = x - xmean\n",
      "/mnt/c/Users/Maxwell Bruce/Desktop/honours/CurrentModels/myenv/lib/python3.10/site-packages/scipy/stats/_stats_py.py:4893: RuntimeWarning: invalid value encountered in subtract\n",
      "  xm = x - xmean\n",
      "/mnt/c/Users/Maxwell Bruce/Desktop/honours/CurrentModels/myenv/lib/python3.10/site-packages/scipy/stats/_stats_py.py:4893: RuntimeWarning: invalid value encountered in subtract\n",
      "  xm = x - xmean\n",
      "/mnt/c/Users/Maxwell Bruce/Desktop/honours/CurrentModels/myenv/lib/python3.10/site-packages/scipy/stats/_stats_py.py:4893: RuntimeWarning: invalid value encountered in subtract\n",
      "  xm = x - xmean\n",
      "/mnt/c/Users/Maxwell Bruce/Desktop/honours/CurrentModels/myenv/lib/python3.10/site-packages/scipy/stats/_stats_py.py:4893: RuntimeWarning: invalid value encountered in subtract\n",
      "  xm = x - xmean\n",
      "/mnt/c/Users/Maxwell Bruce/Desktop/honours/CurrentModels/myenv/lib/python3.10/site-packages/scipy/stats/_stats_py.py:4893: RuntimeWarning: invalid value encountered in subtract\n",
      "  xm = x - xmean\n",
      "/mnt/c/Users/Maxwell Bruce/Desktop/honours/CurrentModels/myenv/lib/python3.10/site-packages/scipy/stats/_stats_py.py:4893: RuntimeWarning: invalid value encountered in subtract\n",
      "  xm = x - xmean\n",
      "/mnt/c/Users/Maxwell Bruce/Desktop/honours/CurrentModels/myenv/lib/python3.10/site-packages/scipy/stats/_stats_py.py:4893: RuntimeWarning: invalid value encountered in subtract\n",
      "  xm = x - xmean\n",
      "/mnt/c/Users/Maxwell Bruce/Desktop/honours/CurrentModels/myenv/lib/python3.10/site-packages/scipy/stats/_stats_py.py:4893: RuntimeWarning: invalid value encountered in subtract\n",
      "  xm = x - xmean\n",
      "/mnt/c/Users/Maxwell Bruce/Desktop/honours/CurrentModels/myenv/lib/python3.10/site-packages/scipy/stats/_stats_py.py:4893: RuntimeWarning: invalid value encountered in subtract\n",
      "  xm = x - xmean\n",
      "/mnt/c/Users/Maxwell Bruce/Desktop/honours/CurrentModels/myenv/lib/python3.10/site-packages/scipy/stats/_stats_py.py:4893: RuntimeWarning: invalid value encountered in subtract\n",
      "  xm = x - xmean\n",
      "/mnt/c/Users/Maxwell Bruce/Desktop/honours/CurrentModels/myenv/lib/python3.10/site-packages/scipy/stats/_stats_py.py:4893: RuntimeWarning: invalid value encountered in subtract\n",
      "  xm = x - xmean\n",
      "/mnt/c/Users/Maxwell Bruce/Desktop/honours/CurrentModels/myenv/lib/python3.10/site-packages/scipy/stats/_stats_py.py:4893: RuntimeWarning: invalid value encountered in subtract\n",
      "  xm = x - xmean\n",
      "/mnt/c/Users/Maxwell Bruce/Desktop/honours/CurrentModels/myenv/lib/python3.10/site-packages/scipy/stats/_stats_py.py:4893: RuntimeWarning: invalid value encountered in subtract\n",
      "  xm = x - xmean\n",
      "/mnt/c/Users/Maxwell Bruce/Desktop/honours/CurrentModels/myenv/lib/python3.10/site-packages/scipy/stats/_stats_py.py:4893: RuntimeWarning: invalid value encountered in subtract\n",
      "  xm = x - xmean\n",
      "/mnt/c/Users/Maxwell Bruce/Desktop/honours/CurrentModels/myenv/lib/python3.10/site-packages/scipy/stats/_stats_py.py:4893: RuntimeWarning: invalid value encountered in subtract\n",
      "  xm = x - xmean\n",
      "/mnt/c/Users/Maxwell Bruce/Desktop/honours/CurrentModels/myenv/lib/python3.10/site-packages/scipy/stats/_stats_py.py:4893: RuntimeWarning: invalid value encountered in subtract\n",
      "  xm = x - xmean\n",
      "/mnt/c/Users/Maxwell Bruce/Desktop/honours/CurrentModels/myenv/lib/python3.10/site-packages/scipy/stats/_stats_py.py:4893: RuntimeWarning: invalid value encountered in subtract\n",
      "  xm = x - xmean\n",
      "/mnt/c/Users/Maxwell Bruce/Desktop/honours/CurrentModels/myenv/lib/python3.10/site-packages/scipy/stats/_stats_py.py:4893: RuntimeWarning: invalid value encountered in subtract\n",
      "  xm = x - xmean\n",
      "/mnt/c/Users/Maxwell Bruce/Desktop/honours/CurrentModels/myenv/lib/python3.10/site-packages/scipy/stats/_stats_py.py:4893: RuntimeWarning: invalid value encountered in subtract\n",
      "  xm = x - xmean\n",
      "/mnt/c/Users/Maxwell Bruce/Desktop/honours/CurrentModels/myenv/lib/python3.10/site-packages/scipy/stats/_stats_py.py:4893: RuntimeWarning: invalid value encountered in subtract\n",
      "  xm = x - xmean\n",
      "/mnt/c/Users/Maxwell Bruce/Desktop/honours/CurrentModels/myenv/lib/python3.10/site-packages/scipy/stats/_stats_py.py:4893: RuntimeWarning: invalid value encountered in subtract\n",
      "  xm = x - xmean\n",
      "/mnt/c/Users/Maxwell Bruce/Desktop/honours/CurrentModels/myenv/lib/python3.10/site-packages/scipy/stats/_stats_py.py:4893: RuntimeWarning: invalid value encountered in subtract\n",
      "  xm = x - xmean\n",
      "/mnt/c/Users/Maxwell Bruce/Desktop/honours/CurrentModels/myenv/lib/python3.10/site-packages/scipy/stats/_stats_py.py:4893: RuntimeWarning: invalid value encountered in subtract\n",
      "  xm = x - xmean\n"
     ]
    },
    {
     "name": "stdout",
     "output_type": "stream",
     "text": [
      "R2 : 0.9899538159370422\n",
      "MSE : 821.302734375\n",
      "Accumulated Difference : 1907681.25\n",
      "Abs Accumulated Difference : 2512404.25\n",
      "Mean Diff : 13.739251136779785\n",
      "Mean Abs Diff : 18.094507217407227\n",
      "Std Dev : 25.1502628326416\n",
      "Information Coefficient : 0.9964895142066013\n",
      "ICIR : 0.4132983992852903\n",
      "RankIC : 0.31840900154055257\n",
      "RankICIR : 1.5260584711700524\n"
     ]
    },
    {
     "data": {
      "image/png": "[encoded data removed]",
      "text/plain": [
       "<Figure size 1000x600 with 1 Axes>"
      ]
     },
     "metadata": {},
     "output_type": "display_data"
    }
   ],
   "source": [
    "@torch.no_grad()\n",
    "def backtest(factor_model, dataloader, seq_len):\n",
    "    device = torch.device(\"cuda\" if torch.cuda.is_available() else \"cpu\")\n",
    "    factor_model.to(device)\n",
    "    factor_model.eval()\n",
    "\n",
    "    daily_profits = []\n",
    "    all_ic_values = []\n",
    "    all_rank_ic_values = []\n",
    "    all_predictions = []\n",
    "    all_ground_truth = []\n",
    "    acc_diff = 0.0\n",
    "    abs_acc_diff = 0.0\n",
    "    differences = []\n",
    "    date_labels = []\n",
    "\n",
    "    date_dict = {}\n",
    "\n",
    "    with tqdm(total=len(dataloader)) as pbar:\n",
    "        for char, returns, dates, current_prices in dataloader:\n",
    "            if char.shape[1] != seq_len:\n",
    "                continue\n",
    "\n",
    "            char = char.float().to(device)\n",
    "            returns = returns.float().to(device)\n",
    "            current_prices = current_prices.float().to(device)\n",
    "            predictions = factor_model.prediction(char)\n",
    "\n",
    "            unscaled_predictions = unscale_returns(predictions).cpu().numpy()\n",
    "            unscaled_returns = unscale_returns(returns).cpu().numpy()\n",
    "            unscaled_current_prices = current_prices.cpu().numpy()\n",
    "            dates = dates.cpu().numpy()\n",
    "\n",
    "            dates = [datetime.utcfromtimestamp(int(ts)).strftime('%Y-%m-%d') for ts in dates.flatten()]\n",
    "\n",
    "            for i, date in enumerate(dates):\n",
    "                if date not in date_dict:\n",
    "                    date_dict[date] = {'Predictions': [], 'Actuals': [], 'Current Prices': []}\n",
    "                \n",
    "                date_dict[date]['Predictions'].append(unscaled_predictions[i])\n",
    "                date_dict[date]['Actuals'].append(unscaled_returns[i])\n",
    "                date_dict[date]['Current Prices'].append(unscaled_current_prices[i])\n",
    "\n",
    "            pbar.update(1)\n",
    "\n",
    "    for date, values in date_dict.items():\n",
    "        df = pd.DataFrame({\n",
    "            'Prediction': np.array(values['Predictions']).flatten(),\n",
    "            'Actual': np.array(values['Actuals']).flatten(),\n",
    "            'Current Price': np.array(values['Current Prices']).flatten()\n",
    "        })\n",
    "\n",
    "        df['Predicted Change (%)'] = (df['Prediction'] - df['Current Price']) / df['Current Price']\n",
    "        df['Actual Change (%)'] = (df['Actual'] - df['Current Price']) / df['Current Price']\n",
    "        df['Change Ratio'] = df['Predicted Change (%)'] / df['Actual Change (%)']\n",
    "        df = df.sort_values(by='Change Ratio', ascending=False)\n",
    "        top_5 = df.head(5)\n",
    "\n",
    "        daily_profit = 0\n",
    "        for _, row in top_5.iterrows():\n",
    "            investment = 100\n",
    "            current_price = row['Current Price']\n",
    "            actual_return = row['Actual']\n",
    "            profit = investment * (actual_return - current_price) / current_price\n",
    "            daily_profit += profit\n",
    "\n",
    "        daily_profits.append(daily_profit)\n",
    "        date_labels.append(date)\n",
    "\n",
    "        rank_ic, _ = spearmanr(df['Change Ratio'], df['Actual Change (%)'])\n",
    "        if not np.isnan(rank_ic):\n",
    "            all_rank_ic_values.append(rank_ic)\n",
    "\n",
    "        ic, _ = pearsonr(df['Change Ratio'], df['Actual Change (%)'])\n",
    "        if not np.isnan(ic):\n",
    "            all_ic_values.append(ic)\n",
    "\n",
    "        differences.extend((df['Prediction'].values - df['Actual'].values).flatten())\n",
    "        acc_diff += np.sum(df['Prediction'].values - df['Actual'].values)\n",
    "        abs_acc_diff += np.sum(np.abs(df['Prediction'].values - df['Actual'].values))\n",
    "\n",
    "    all_predictions = np.concatenate([np.array(values['Predictions']).flatten() for values in date_dict.values()])\n",
    "    all_ground_truth = np.concatenate([np.array(values['Actuals']).flatten() for values in date_dict.values()])\n",
    "\n",
    "    overall_ic = np.corrcoef(all_predictions, all_ground_truth)[0, 1]\n",
    "\n",
    "    y_mean = np.mean(all_ground_truth)\n",
    "    ss_tot = np.sum((all_ground_truth - y_mean) ** 2)\n",
    "    ss_res = np.sum((all_ground_truth - all_predictions) ** 2)\n",
    "    r2 = 1 - (ss_res / ss_tot)\n",
    "\n",
    "    mse = mean_squared_error(all_ground_truth, all_predictions)\n",
    "    std_dev = np.std(differences)\n",
    "\n",
    "    mean_ic = np.mean(all_ic_values) if all_ic_values else np.nan\n",
    "    std_ic = np.std(all_ic_values) if all_ic_values else np.nan\n",
    "    icir = mean_ic / std_ic if std_ic != 0 and not np.isnan(std_ic) else np.nan\n",
    "\n",
    "    mean_rank_ic = np.mean(all_rank_ic_values) if all_rank_ic_values else np.nan\n",
    "    std_rank_ic = np.std(all_rank_ic_values) if all_rank_ic_values else np.nan\n",
    "    rank_icir = mean_rank_ic / std_rank_ic if std_rank_ic != 0 and not np.isnan(std_rank_ic) else np.nan\n",
    "\n",
    "    profit_df = pd.DataFrame({'Date': date_labels, 'Profit': daily_profits})\n",
    "    profit_df['Date'] = pd.to_datetime(profit_df['Date'], format='%Y-%m-%d')\n",
    "    monthly_profits = profit_df.groupby(profit_df['Date'].dt.to_period('M')).agg({'Profit': 'sum'})\n",
    "\n",
    "    print(f\"R2 : {r2}\")\n",
    "    print(f\"MSE : {mse}\")\n",
    "    print(f\"Accumulated Difference : {acc_diff}\")\n",
    "    print(f\"Abs Accumulated Difference : {abs_acc_diff}\")\n",
    "    print(f\"Mean Diff : {acc_diff / len(all_predictions)}\")\n",
    "    print(f\"Mean Abs Diff : {abs_acc_diff / len(all_predictions)}\")\n",
    "    print(f\"Std Dev : {std_dev}\")\n",
    "    print(f\"Information Coefficient : {overall_ic}\")\n",
    "    print(f\"ICIR : {icir}\")\n",
    "    print(f\"RankIC : {mean_rank_ic}\")\n",
    "    print(f\"RankICIR : {rank_icir}\")\n",
    "\n",
    "    return monthly_profits, mean_rank_ic, rank_icir, r2, mse, acc_diff, abs_acc_diff, std_dev, overall_ic, icir\n",
    "\n",
    "\n",
    "monthly_profits, mean_rank_ic, rank_icir, r2, mse, acc_diff, abs_acc_diff, std_dev, information_coefficient, icir = backtest(factorVAE, test_dataloader, seq_len)\n",
    "\n",
    "plt.figure(figsize=(10, 6))\n",
    "plt.plot(monthly_profits.index.astype(str), monthly_profits['Profit'].cumsum(), label='Cumulative Profit')\n",
    "plt.xlabel('Month')\n",
    "plt.ylabel('Cumulative Profit ($)')\n",
    "plt.xticks(rotation=45)\n",
    "plt.title('Backtest Cumulative Profit by Month')\n",
    "plt.legend()\n",
    "plt.show()\n"
   ]
  },
  {
   "cell_type": "code",
   "execution_count": 13,
   "metadata": {},
   "outputs": [
    {
     "name": "stdout",
     "output_type": "stream",
     "text": [
      "Date\n",
      "2022-01      0.472019\n",
      "2022-02     18.955105\n",
      "2022-03     43.171894\n",
      "2022-04     60.534050\n",
      "2022-05     88.489052\n",
      "2022-06     96.949577\n",
      "2022-07    111.563408\n",
      "2022-08    119.843498\n",
      "2022-09    141.933960\n",
      "2022-10    191.323975\n",
      "2022-11    225.711609\n",
      "2022-12    239.576782\n",
      "2023-01    255.756119\n",
      "2023-02    257.482452\n",
      "2023-03    225.552231\n",
      "2023-04    232.679214\n",
      "2023-05    250.427170\n",
      "2023-06    266.145264\n",
      "2023-07    281.714355\n",
      "2023-08    294.662811\n",
      "2023-09    307.440033\n",
      "2023-10    322.847778\n",
      "2023-11    338.032745\n",
      "2023-12    348.231995\n",
      "2024-01    359.842651\n",
      "2024-02    371.475250\n",
      "2024-03    385.455811\n",
      "2024-04    401.922363\n",
      "2024-05    413.426239\n",
      "Freq: M, Name: Profit, dtype: float32\n"
     ]
    }
   ],
   "source": [
    "print(monthly_profits['Profit'].cumsum())"
   ]
  },
  {
   "cell_type": "code",
   "execution_count": 14,
   "metadata": {},
   "outputs": [
    {
     "name": "stdout",
     "output_type": "stream",
     "text": [
      "2024-09-02 17:37:16.410959+09:30\n"
     ]
    }
   ],
   "source": [
    "from datetime import datetime\n",
    "\n",
    "current_dateTime = datetime.now().astimezone()\n",
    "\n",
    "print(current_dateTime)"
   ]
  },
  {
   "cell_type": "code",
   "execution_count": null,
   "metadata": {},
   "outputs": [],
   "source": []
  }
 ],
 "metadata": {
  "kernelspec": {
   "display_name": "myenv",
   "language": "python",
   "name": "python3"
  },
  "language_info": {
   "codemirror_mode": {
    "name": "ipython",
    "version": 3
   },
   "file_extension": ".py",
   "mimetype": "text/x-python",
   "name": "python",
   "nbconvert_exporter": "python",
   "pygments_lexer": "ipython3",
   "version": "3.10.12"
  }
 },
 "nbformat": 4,
 "nbformat_minor": 2
}
